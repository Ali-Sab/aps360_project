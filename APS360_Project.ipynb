{
  "nbformat": 4,
  "nbformat_minor": 0,
  "metadata": {
    "colab": {
      "name": "APS360 Project.ipynb",
      "provenance": [],
      "collapsed_sections": [],
      "include_colab_link": true
    },
    "kernelspec": {
      "name": "python3",
      "display_name": "Python 3",
      "language": "python"
    }
  },
  "cells": [
    {
      "cell_type": "markdown",
      "metadata": {
        "id": "view-in-github",
        "colab_type": "text"
      },
      "source": [
        "<a href=\"https://colab.research.google.com/github/Ali-Sab/aps360_project/blob/main/APS360_Project.ipynb\" target=\"_parent\"><img src=\"https://colab.research.google.com/assets/colab-badge.svg\" alt=\"Open In Colab\"/></a>"
      ]
    },
    {
      "cell_type": "code",
      "metadata": {
        "colab": {
          "base_uri": "https://localhost:8080/"
        },
        "id": "lLSzgr-8DSUr",
        "outputId": "fdba501c-2d70-462a-efa3-149025e81d2f"
      },
      "source": [
        "print(\"Welcome!\")\n",
        "import numpy as np\n",
        "import time\n",
        "import matplotlib.pyplot as plt\n",
        "import torch\n",
        "import torch.nn as nn\n",
        "import torch.nn.functional as F\n",
        "from torchvision import datasets, transforms\n",
        "import matplotlib.pyplot as plt # for plotting\n",
        "import torch.optim as optim\n",
        "print(\"welcome again\")\n",
        "print(\"Trying to add stuff and also take it away\")\n",
        "print(\"Also merging again\")"
      ],
      "execution_count": 5,
      "outputs": [
        {
          "output_type": "stream",
          "name": "stdout",
          "text": [
            "Welcome!\nwelcome again\nA change is made after github is created to test github\n"
          ]
        }
      ]
    },
    {
      "cell_type": "markdown",
      "metadata": {
        "id": "4bqxSis_ENAE"
      },
      "source": [
        "djdjdjdjdjdjdjdjdjdj"
      ]
    },
    {
      "cell_type": "markdown",
      "metadata": {
        "id": "mEIFkD2HG-ea"
      },
      "source": [
        "Hi this is Ammol's commit"
      ]
    },
    {
      "cell_type": "code",
      "execution_count": null,
      "metadata": {},
      "outputs": [],
      "source": [
        "#I i would like to observe what happens now.\nI JUST GOT A MERGE CONFLICT AND FIXED IT\n# Hello everyone. I would like to point out that this is a test. Do not be confused. :D "
      ]
    }
  ]
}