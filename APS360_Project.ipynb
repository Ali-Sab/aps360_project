{
  "nbformat": 4,
  "nbformat_minor": 0,
  "metadata": {
    "colab": {
      "name": "APS360 Project.ipynb",
      "provenance": [],
      "collapsed_sections": [],
      "include_colab_link": true
    },
    "kernelspec": {
      "name": "python3",
      "display_name": "Python 3",
      "language": "python"
    }
  },
  "cells": [
    {
      "cell_type": "markdown",
      "metadata": {
        "id": "view-in-github",
        "colab_type": "text"
      },
      "source": [
        "<a href=\"https://colab.research.google.com/github/Ali-Sab/aps360_project/blob/main/APS360_Project.ipynb\" target=\"_parent\"><img src=\"https://colab.research.google.com/assets/colab-badge.svg\" alt=\"Open In Colab\"/></a>"
      ]
    },
    {
      "cell_type": "code",
      "metadata": {
        "colab": {
          "base_uri": "https://localhost:8080/"
        },
        "id": "lLSzgr-8DSUr",
        "outputId": "fdba501c-2d70-462a-efa3-149025e81d2f"
      },
      "source": [
        "import numpy as np\n",
        "import time\n",
        "import matplotlib.pyplot as plt\n",
        "import torch\n",
        "import torch.nn as nn\n",
        "import torch.nn.functional as F\n",
        "from torchvision import datasets, transforms\n",
        "import matplotlib.pyplot as plt # for plotting\n",
        "import torch.optim as optim"
      ],
      "execution_count": 2,
      "outputs": []
    },
    {
      "cell_type": "code",
      "execution_count": null,
      "metadata": {},
      "outputs": [],
      "source": [
        "# After receiving necessary tensors\n",
        "\n",
        "def get_data_loader(data, batch_size, training_percentage=0.7):\n",
        "  # subtraction is necessary below because we are using integers and do not want any data to be unused because of rounding down the integers\n",
        "  train_len = int(len(data)*training_percentage)\n",
        "  val_len = int(len(data)*(1-training_percentage)/2)\n",
        "  test_len = len(data) - train_len - val_len\n",
        "  train_set, val_set, test_set = torch.utils.data.random_split(data, [train_len, val_len, test_len])\n",
        "\n",
        "  train_loader = DataLoader(train_set, batch_size, shuffle=True)\n",
        "  if val_len > 0:\n",
        "    val_loader = DataLoader(val_set, batch_size, shuffle=True)\n",
        "  else:\n",
        "    val_loader = []\n",
        "  if test_len > 0:\n",
        "    test_loader = DataLoader(test_set, batch_size, shuffle=True)\n",
        "  else:\n",
        "    test_loader = []\n",
        "\n",
        "  return train_loader, val_loader, test_loader\n",
        "\n",
        "batch_size = 64\n",
        "#dataset = TensorDataset(torch.from_numpy(datanp))\n",
        "#dataset = TensorDataset(data)\n",
        "#train_loader, val_loader, test_loader = get_data_loader(dataset, batch_size)"
      ]
    }
  ]
}