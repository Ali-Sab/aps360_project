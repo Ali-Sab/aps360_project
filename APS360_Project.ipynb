{
  "nbformat": 4,
  "nbformat_minor": 0,
  "metadata": {
    "colab": {
      "name": "APS360 Project.ipynb",
      "provenance": [],
      "collapsed_sections": [],
      "include_colab_link": true
    },
    "kernelspec": {
      "name": "python3",
      "display_name": "Python 3",
      "language": "python"
    }
  },
  "cells": [
    {
      "cell_type": "markdown",
      "metadata": {
        "id": "view-in-github",
        "colab_type": "text"
      },
      "source": [
        "<a href=\"https://colab.research.google.com/github/Ali-Sab/aps360_project/blob/main/APS360_Project.ipynb\" target=\"_parent\"><img src=\"https://colab.research.google.com/assets/colab-badge.svg\" alt=\"Open In Colab\"/></a>"
      ]
    },
    {
      "cell_type": "code",
      "metadata": {
        "colab": {
          "base_uri": "https://localhost:8080/"
        },
        "id": "lLSzgr-8DSUr",
        "outputId": "fdba501c-2d70-462a-efa3-149025e81d2f"
      },
      "source": [
        "import numpy as np\n",
        "import time\n",
        "import matplotlib.pyplot as plt\n",
        "import torch\n",
        "import torch.nn as nn\n",
        "import torch.nn.functional as F\n",
        "from torchvision import datasets, transforms\n",
        "import matplotlib.pyplot as plt # for plotting\n",
        "import torch.optim as optim\n",
        "torch.manual_seed(50)"
      ],
      "execution_count": 2,
      "outputs": []
    },
    {
      "cell_type": "code",
      "execution_count": 3,
      "metadata": {},
      "outputs": [],
      "source": [
        "# After receiving necessary tensors\n",
        "\n",
        "def get_data_loader(data, batch_size, training_percentage=0.7):\n",
        "  # subtraction is necessary below because we are using integers and do not want any data to be unused because of rounding down the integers\n",
        "  train_len = int(len(data)*training_percentage)\n",
        "  val_len = int(len(data)*(1-training_percentage)/2)\n",
        "  test_len = len(data) - train_len - val_len\n",
        "  train_set, val_set, test_set = torch.utils.data.random_split(data, [train_len, val_len, test_len])\n",
        "\n",
        "  train_loader = DataLoader(train_set, batch_size, shuffle=True)\n",
        "  if val_len > 0:\n",
        "    val_loader = DataLoader(val_set, batch_size, shuffle=True)\n",
        "  else:\n",
        "    val_loader = []\n",
        "  if test_len > 0:\n",
        "    test_loader = DataLoader(test_set, batch_size, shuffle=True)\n",
        "  else:\n",
        "    test_loader = []\n",
        "\n",
        "  return train_loader, val_loader, test_loader\n",
        "\n",
        "batch_size = 64\n",
        "#dataset = TensorDataset(torch.from_numpy(datanp))\n",
        "#dataset = TensorDataset(data)\n",
        "#train_loader, val_loader, test_loader = get_data_loader(dataset, batch_size)"
      ]
    },
    {
      "cell_type": "code",
      "execution_count": 4,
      "metadata": {},
      "outputs": [
        {
          "output_type": "error",
          "ename": "NameError",
          "evalue": "name 'train_loader' is not defined",
          "traceback": [
            "\u001b[0;31m---------------------------------------------------------------------------\u001b[0m",
            "\u001b[0;31mNameError\u001b[0m                                 Traceback (most recent call last)",
            "\u001b[0;32m<ipython-input-4-5081b2a0f024>\u001b[0m in \u001b[0;36m<module>\u001b[0;34m\u001b[0m\n\u001b[1;32m     11\u001b[0m \u001b[0;31m#Because we set warm start to true, we can fit the decision trees batch by batch\u001b[0m\u001b[0;34m\u001b[0m\u001b[0;34m\u001b[0m\u001b[0;34m\u001b[0m\u001b[0m\n\u001b[1;32m     12\u001b[0m \u001b[0;34m\u001b[0m\u001b[0m\n\u001b[0;32m---> 13\u001b[0;31m \u001b[0;32mfor\u001b[0m \u001b[0minput\u001b[0m\u001b[0;34m,\u001b[0m \u001b[0mlabels\u001b[0m \u001b[0;32min\u001b[0m \u001b[0menumerate\u001b[0m\u001b[0;34m(\u001b[0m\u001b[0mtrain_loader\u001b[0m\u001b[0;34m,\u001b[0m \u001b[0;36m0\u001b[0m\u001b[0;34m)\u001b[0m\u001b[0;34m:\u001b[0m\u001b[0;34m\u001b[0m\u001b[0;34m\u001b[0m\u001b[0m\n\u001b[0m\u001b[1;32m     14\u001b[0m     \u001b[0mrfc\u001b[0m\u001b[0;34m.\u001b[0m\u001b[0mfit\u001b[0m\u001b[0;34m(\u001b[0m\u001b[0;34m)\u001b[0m\u001b[0;34m\u001b[0m\u001b[0;34m\u001b[0m\u001b[0m\n",
            "\u001b[0;31mNameError\u001b[0m: name 'train_loader' is not defined"
          ]
        }
      ],
      "source": [
        "#For baseline model, will need to implement random forest classifier\n",
        "#Will use the following links as guides: (moreso the second link)\n",
        "#https://medium.com/@pratyush.sinha/training-random-forest-by-back-propagation-for-fun-pytorch-part-1-a54674355aa7\n",
        "#https://medium.com/@hjhuney/implementing-a-random-forest-classification-model-in-python-583891c99652\n",
        "\n",
        "from sklearn.ensemble import RandomForestClassifier\n",
        "from sklearn.model_selection import cross_val_score\n",
        "\n",
        "rfc = RandomForestClassifier(random_state=10, n_estimators=100, max_features=100, warm_start=True, min_samples_leaf=10, verbose=True, n_jobs=-1)\n",
        "\n",
        "#Because we set warm start to true, we can fit the decision trees batch by batch\n",
        "\n",
        "def train(model, train_loader, val_loader, num_epochs=1):\n",
        "    acc = np.zeros(num_epochs)\n",
        "    for epoch in range(num_epochs):    #I don't think we even need more than one, but try it and see cuz idk\n",
        "        for input, labels in enumerate(train_loader, 0):\n",
        "            #replace 784 with number of pixels per spectrogram... idk how many as of yet\n",
        "            input = input.view(-1, 784)\n",
        "            model.fit(input, labels)\n",
        "        acc[epoch] = get_accuracy(model, val_loader)\n",
        "\n",
        "    #rough stuff\n",
        "    print(acc)\n",
        "\n",
        "def get_accuracy(model, data_loader):\n",
        "    return 0\n",
        "\n"
      ]
    },
    {
      "cell_type": "code",
      "execution_count": null,
      "metadata": {},
      "outputs": [],
      "source": []
    }
  ]
}