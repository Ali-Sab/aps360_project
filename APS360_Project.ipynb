{
  "nbformat": 4,
  "nbformat_minor": 0,
  "metadata": {
    "colab": {
      "name": "APS360 Project",
      "provenance": [],
      "collapsed_sections": [],
      "include_colab_link": true
    },
    "kernelspec": {
      "display_name": "Python 3",
      "language": "python",
      "name": "python3"
    },
    "language_info": {
      "codemirror_mode": {
        "name": "ipython",
        "version": 3
      },
      "file_extension": ".py",
      "mimetype": "text/x-python",
      "name": "python",
      "nbconvert_exporter": "python",
      "pygments_lexer": "ipython3",
      "version": "3.8.5"
    },
    "accelerator": "GPU"
  },
  "cells": [
    {
      "cell_type": "markdown",
      "metadata": {
        "id": "view-in-github",
        "colab_type": "text"
      },
      "source": [
        "<a href=\"https://colab.research.google.com/github/Ali-Sab/aps360_project/blob/main/APS360_Project.ipynb\" target=\"_parent\"><img src=\"https://colab.research.google.com/assets/colab-badge.svg\" alt=\"Open In Colab\"/></a>"
      ]
    },
    {
      "cell_type": "code",
      "metadata": {
        "colab": {
          "base_uri": "https://localhost:8080/"
        },
        "id": "lLSzgr-8DSUr",
        "outputId": "e4947f85-57cb-4605-e180-5a5468d1bd8a"
      },
      "source": [
        "import numpy as np\n",
        "import time\n",
        "import matplotlib.pyplot as plt\n",
        "import torch\n",
        "import torch.nn as nn\n",
        "import torch.nn.functional as F\n",
        "from torchvision import datasets, transforms\n",
        "import matplotlib.pyplot as plt # for plotting\n",
        "import torch.optim as optim\n",
        "import requests\n",
        "torch.manual_seed(50)"
      ],
      "execution_count": 112,
      "outputs": [
        {
          "output_type": "execute_result",
          "data": {
            "text/plain": [
              "<torch._C.Generator at 0x7f8a20cc88f0>"
            ]
          },
          "metadata": {
            "tags": []
          },
          "execution_count": 112
        }
      ]
    },
    {
      "cell_type": "code",
      "metadata": {
        "id": "bevxoaRrb2J-"
      },
      "source": [
        "# import audio libraries\n",
        "import os\n",
        "from os import listdir\n",
        "from os.path import join\n",
        "from scipy.io import wavfile\n",
        "import IPython.display as ipd\n",
        "\n",
        "import librosa\n",
        "from librosa.feature import melspectrogram\n",
        "from librosa import power_to_db\n",
        "from librosa.effects import trim"
      ],
      "execution_count": 63,
      "outputs": []
    },
    {
      "cell_type": "code",
      "metadata": {
        "id": "RVI7aS9Eb2KD"
      },
      "source": [
        "#Plot size\n",
        "plt.rcParams['figure.figsize'] = [12, 8]"
      ],
      "execution_count": 115,
      "outputs": []
    },
    {
      "cell_type": "code",
      "metadata": {
        "id": "KfTO1huZmGl-"
      },
      "source": [
        "#Download team data from Google Drive\n",
        "if(not os.path.exists(\"./team_data.zip\")):\n",
        "    team_data_url = \"https://drive.google.com/uc?export=download&id=1eycnGtDVzqW57EUBEQmJDPz2F1Dqgqdc\" #All data\n",
        "    #team_data_url = \"https://drive.google.com/uc?export=download&id=104eyGYcZADgDiZ1_PLtLGQvx0MIbaKtY\" #Excluding angie's data\n",
        "\n",
        "    resp = requests.get(team_data_url, stream=True)\n",
        "\n",
        "    with open(\"./team_data.zip\", 'wb') as fd:\n",
        "        for chunk in resp.iter_content(chunk_size=128):\n",
        "            fd.write(chunk)"
      ],
      "execution_count": 4,
      "outputs": []
    },
    {
      "cell_type": "code",
      "metadata": {
        "id": "2e0Ulj3wnHs_"
      },
      "source": [
        "#Download Kaggle data from Google Drive\n",
        "if(not os.path.exists(\"./KaggleFSDD.zip\")):\n",
        "    kaggle_data_url = \"https://drive.google.com/uc?export=download&id=1Uoy-XzAqE12FIPdqf9adFz7dfTcjDI9N\"\n",
        "\n",
        "    resp = requests.get(kaggle_data_url, stream=True)\n",
        "\n",
        "    with open(\"./KaggleFSDD.zip\", 'wb') as fd:\n",
        "        for chunk in resp.iter_content(chunk_size=128):\n",
        "            fd.write(chunk)"
      ],
      "execution_count": 6,
      "outputs": []
    },
    {
      "cell_type": "code",
      "metadata": {
        "id": "hvfK2yuqonvQ"
      },
      "source": [
        "#if(not os.path.exists(\"./team_recordings\")):\n",
        "!unzip './team_data.zip' -d './team_recordings'"
      ],
      "execution_count": null,
      "outputs": []
    },
    {
      "cell_type": "code",
      "metadata": {
        "id": "Bur1GUospsS7"
      },
      "source": [
        "if(not os.path.exists(\"./kaggle_recordings\")):\n",
        "    !unzip './KaggleFSDD.zip' -d './kaggle_recordings'"
      ],
      "execution_count": null,
      "outputs": []
    },
    {
      "cell_type": "code",
      "metadata": {
        "id": "bue4-gKlb2KG"
      },
      "source": [
        "# load audio files\n",
        "def load_files(files, X, y):\n",
        "    for file in files:\n",
        "        label = int(file.split(\"_\")[0])\n",
        "        rate, data = wavfile.read(join(dir, file))\n",
        "        X.append(data.astype(np.float32))\n",
        "        y.append(label)\n",
        "    return rate\n",
        "\n",
        "X = []\n",
        "y = []\n",
        "\n",
        "# load team recordings\n",
        "dir = './team_recordings/all' #change to /all for all\n",
        "files = listdir(dir)\n",
        "rate1 = load_files(files, X, y)\n",
        "\n",
        "# load Kaggle recordings\n",
        "dir = './kaggle_recordings/recordings'\n",
        "files = listdir(dir)\n",
        "rate2 = load_files(files, X, y)\n",
        "\n",
        "rate = min(rate1, rate2)"
      ],
      "execution_count": 64,
      "outputs": []
    },
    {
      "cell_type": "code",
      "metadata": {
        "colab": {
          "base_uri": "https://localhost:8080/",
          "height": 571
        },
        "id": "ZI-uNy4-b2KJ",
        "outputId": "9e3ad3c3-e43d-4e14-873d-76797c077567"
      },
      "source": [
        "# check distribution of length of audio clips\n",
        "\n",
        "def show_length_distribution(signals, rate=8000):\n",
        "    sample_times = [len(x)/rate for x in signals]\n",
        "\n",
        "    fig = plt.figure()\n",
        "    plt.hist(x=sample_times, bins = 'fd')\n",
        "    fig.suptitle('Audio signal lengths')\n",
        "    plt.xlabel('Duration (seconds)')\n",
        "    plt.ylabel('Count')\n",
        "\n",
        "    plt.show()\n",
        "    return sample_times\n",
        "\n",
        "lengths = show_length_distribution(X)\n",
        "print(np.percentile(lengths, 95))"
      ],
      "execution_count": 65,
      "outputs": [
        {
          "output_type": "display_data",
          "data": {
            "image/png": "[encoded data removed]",
            "text/plain": [
              "<Figure size 864x576 with 1 Axes>"
            ]
          },
          "metadata": {
            "tags": [],
            "needs_background": "light"
          }
        },
        {
          "output_type": "stream",
          "text": [
            "0.6635624999999996\n"
          ],
          "name": "stdout"
        }
      ]
    },
    {
      "cell_type": "code",
      "metadata": {
        "id": "n1KXc0ksxStS",
        "colab": {
          "base_uri": "https://localhost:8080/",
          "height": 571
        },
        "outputId": "3f33cee9-f06a-4f35-ce12-70a46400e746"
      },
      "source": [
        "def remove_silence(sample, sr= 8000, top_db = 5):\n",
        "    \"\"\"This function removes trailing and leading silence periods of audio signals.\n",
        "    \"\"\"\n",
        "    y = np.array(sample, dtype = np.float64)\n",
        "    #y = librosa.util.normalize(y)\n",
        "    # Trim the beginning and ending silence\n",
        "    yt, _ = trim(y, top_db= top_db)\n",
        "    return yt\n",
        "X_tr = [remove_silence(x) for x in X]\n",
        "\n",
        "lengths = show_length_distribution(X_tr);\n",
        "print(np.percentile(lengths, 99))"
      ],
      "execution_count": 66,
      "outputs": [
        {
          "output_type": "display_data",
          "data": {
            "image/png": "[encoded data removed]",
            "text/plain": [
              "<Figure size 864x576 with 1 Axes>"
            ]
          },
          "metadata": {
            "tags": [],
            "needs_background": "light"
          }
        },
        {
          "output_type": "stream",
          "text": [
            "0.512\n"
          ],
          "name": "stdout"
        }
      ]
    },
    {
      "cell_type": "code",
      "metadata": {
        "id": "g-6LK7hnb2KP"
      },
      "source": [
        "# pad all clips to same length\n",
        "\n",
        "N = int(rate * 0.5)\n",
        "X_uniform = []\n",
        "for x in X_tr:\n",
        "    if len(x) < N:\n",
        "        X_uniform.append(np.pad(x, (0, N - len(x)), constant_values = (0, 0)))\n",
        "    else:\n",
        "        X_uniform.append(x[:N])"
      ],
      "execution_count": 67,
      "outputs": []
    },
    {
      "cell_type": "code",
      "metadata": {
        "colab": {
          "base_uri": "https://localhost:8080/",
          "height": 559
        },
        "id": "LDh5Xp4eb2KR",
        "outputId": "dd5aedef-7570-470f-a0d5-72a9de2627ec"
      },
      "source": [
        "# playback some audio clips\n",
        "\n",
        "index = 120\n",
        "print(\"Digit: {}\".format(y[index]))\n",
        "norm = librosa.util.normalize(X_uniform[index])\n",
        "norm += np.random.normal(0, 0.02, 4000)\n",
        "plt.plot(norm)\n",
        "plt.show()\n",
        "ipd.Audio(norm, rate=8000)"
      ],
      "execution_count": 68,
      "outputs": [
        {
          "output_type": "stream",
          "text": [
            "Digit: 9\n"
          ],
          "name": "stdout"
        },
        {
          "output_type": "display_data",
          "data": {
            "image/png": "[encoded data removed]",
            "text/plain": [
              "<Figure size 864x576 with 1 Axes>"
            ]
          },
          "metadata": {
            "tags": [],
            "needs_background": "light"
          }
        },
        {
          "output_type": "execute_result",
          "data": {
            "text/html": [
              "\n",
              "                <audio controls=\"controls\" >\n",
              "                    <source src=\"data:audio/wav;base64,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\" type=\"audio/wav\" />\n",
              "                    Your browser does not support the audio element.\n",
              "                </audio>\n",
              "              "
            ],
            "text/plain": [
              "<IPython.lib.display.Audio object>"
            ]
          },
          "metadata": {
            "tags": []
          },
          "execution_count": 68
        }
      ]
    },
    {
      "cell_type": "code",
      "metadata": {
        "colab": {
          "base_uri": "https://localhost:8080/",
          "height": 519
        },
        "id": "mCU156-Lb2KS",
        "outputId": "57ea7f73-db94-44ef-e706-c908ae2796c2"
      },
      "source": [
        "from librosa import display\n",
        "\n",
        "S = librosa.util.normalize(X_uniform[0])\n",
        "S = librosa.feature.melspectrogram(y=X_uniform[0], sr=8000, n_fft=1024, hop_length=32, n_mels=126)\n",
        "print(S.shape)\n",
        "\n",
        "display.specshow(librosa.power_to_db(S, ref=np.max), x_axis='time', y_axis='mel', fmin=25, fmax=280, sr=8000, hop_length=44)\n",
        "\n",
        "# Need to transpose first to get n_mel/timestep format\n",
        "S = S.transpose()\n",
        "\n",
        "#print(S[0])\n",
        "\n",
        "#from scipy import signal\n",
        "#frequencies, times, spectrogram = signal.spectrogram(X_uniform[4], 8000)\n",
        "#plt.pcolormesh(times, frequencies, spectrogram)\n",
        "#plt.imshow(spectrogram)\n",
        "#plt.ylabel('Frequency [Hz]')\n",
        "#plt.xlabel('Time [sec]')\n",
        "\n",
        "#plt.show()\n",
        "#for x in X_uniform[0]:\n",
        "#   print(x)"
      ],
      "execution_count": 116,
      "outputs": [
        {
          "output_type": "stream",
          "text": [
            "(126, 126)\n"
          ],
          "name": "stdout"
        },
        {
          "output_type": "display_data",
          "data": {
            "image/png": "[encoded data removed]",
            "text/plain": [
              "<Figure size 864x576 with 1 Axes>"
            ]
          },
          "metadata": {
            "tags": [],
            "needs_background": "light"
          }
        }
      ]
    },
    {
      "cell_type": "code",
      "metadata": {
        "id": "sHE7lC_rEM0M"
      },
      "source": [
        "import sklearn\n",
        "from sklearn.ensemble import RandomForestClassifier\n",
        "from sklearn.model_selection import cross_val_score\n",
        "from sklearn.model_selection import train_test_split\n",
        "\n",
        "# Form the training, validation, and test sets\n",
        "def get_data_sets(data, labels, training_percentage=0.7, use_mel=False):\n",
        "    # subtraction is necessary below because we are using integers and do not want any data to be unused because of rounding down the integers\n",
        "    train_len = int(len(data)*training_percentage)\n",
        "    val_len = int(len(data)*(1-training_percentage)/2)\n",
        "    test_len = len(data) - train_len - val_len\n",
        "\n",
        "    if(use_mel):\n",
        "        # Get melspectrograms of each sample\n",
        "        mel_list = []\n",
        "        for i in range(len(data)):\n",
        "            S = librosa.feature.melspectrogram(y=data[i], sr=8000, n_fft=1024, hop_length=44)\n",
        "            S = np.kron(S, np.ones((1, 20)))\n",
        "            S = S.flatten()\n",
        "            mel_list.append(S)\n",
        "        x_train, x_val, y_train, y_val = sklearn.model_selection.train_test_split(mel_list, labels, test_size=val_len, random_state=1)\n",
        "    else:\n",
        "        x_train, x_val, y_train, y_val = sklearn.model_selection.train_test_split(data, labels, test_size=val_len, random_state=1)\n",
        "\n",
        "    x_train, x_test, y_train, y_test = sklearn.model_selection.train_test_split(x_train, y_train, test_size=test_len, random_state=1)\n",
        "\n",
        "    return x_train, y_train, x_val, y_val, x_test, y_test\n",
        "\n",
        "# Calc\n",
        "def get_accuracy(classifier, x_data, y_data):\n",
        "    pred = rfc.predict(x_data)\n",
        "    correct = 0\n",
        "    total = len(pred)\n",
        "    for i in range(len(pred)):\n",
        "        correct += pred[i] == y_data[i]\n",
        "\n",
        "    return correct/total\n",
        "\n",
        "def get_accuracy_by_class(classifier, x_data, y_data):\n",
        "    pred = rfc.predict(x_data)\n",
        "    classes = max(y_data) + 1\n",
        "    correct = [0]*classes\n",
        "    total = [0]*classes\n",
        "    for i in range(len(pred)):\n",
        "        correct[y_data[i]] += pred[i] == y_data[i]\n",
        "        total[y_data[i]] += 1\n",
        "    acc = [x / y for x, y in zip(correct, total)]\n",
        "\n",
        "    return acc"
      ],
      "execution_count": 70,
      "outputs": []
    },
    {
      "cell_type": "code",
      "metadata": {
        "colab": {
          "base_uri": "https://localhost:8080/"
        },
        "id": "a-ecVBYuOlZR",
        "outputId": "03cdce2e-8fee-404d-84e3-39899508d484"
      },
      "source": [
        "#For baseline model, will need to implement random forest classifier\n",
        "#Will use the following links as guides: (moreso the second link)\n",
        "#https://medium.com/@pratyush.sinha/training-random-forest-by-back-propagation-for-fun-pytorch-part-1-a54674355aa7\n",
        "#https://medium.com/@hjhuney/implementing-a-random-forest-classification-model-in-python-583891c99652\n",
        "\n",
        "rfc = RandomForestClassifier(random_state=10, n_estimators=100, max_features=100, warm_start=True, min_samples_leaf=10, verbose=True, n_jobs=-1)\n",
        "x_train, y_train, x_val, y_val, x_test, y_test = get_data_sets(X_uniform[120:], y[120:], use_mel=True)\n",
        "rfc.fit(x_train, y_train)"
      ],
      "execution_count": 22,
      "outputs": [
        {
          "output_type": "stream",
          "text": [
            "[Parallel(n_jobs=-1)]: Using backend ThreadingBackend with 2 concurrent workers.\n",
            "[Parallel(n_jobs=-1)]: Done  46 tasks      | elapsed:    3.0s\n",
            "[Parallel(n_jobs=-1)]: Done 100 out of 100 | elapsed:    6.5s finished\n"
          ],
          "name": "stderr"
        },
        {
          "output_type": "execute_result",
          "data": {
            "text/plain": [
              "RandomForestClassifier(bootstrap=True, ccp_alpha=0.0, class_weight=None,\n",
              "                       criterion='gini', max_depth=None, max_features=100,\n",
              "                       max_leaf_nodes=None, max_samples=None,\n",
              "                       min_impurity_decrease=0.0, min_impurity_split=None,\n",
              "                       min_samples_leaf=10, min_samples_split=2,\n",
              "                       min_weight_fraction_leaf=0.0, n_estimators=100,\n",
              "                       n_jobs=-1, oob_score=False, random_state=10,\n",
              "                       verbose=True, warm_start=True)"
            ]
          },
          "metadata": {
            "tags": []
          },
          "execution_count": 22
        }
      ]
    },
    {
      "cell_type": "code",
      "metadata": {
        "colab": {
          "base_uri": "https://localhost:8080/"
        },
        "id": "QegF0qFctDwY",
        "outputId": "34f22984-e806-4194-b840-249cf73ac65e"
      },
      "source": [
        "print(\"Validation Accuracy: {}%\".format(100*get_accuracy(rfc, x_val, y_val)))\n",
        "print(\"Test Accuracy: {}%\".format(100*get_accuracy(rfc, x_test, y_test)))\n",
        "\n",
        "X_unseen = []\n",
        "for i in range(120):\n",
        "    S = librosa.feature.melspectrogram(y=X_uniform[i], sr=8000, n_fft=1024, hop_length=44)\n",
        "    S = np.kron(S, np.ones((1, 20)))\n",
        "    S = S.flatten()\n",
        "    X_unseen.append(S)\n",
        "print(\"Unseen Accuracy: {}%\".format(100*get_accuracy(rfc, X_unseen, y[:120])))"
      ],
      "execution_count": 23,
      "outputs": [
        {
          "output_type": "stream",
          "text": [
            "[Parallel(n_jobs=2)]: Using backend ThreadingBackend with 2 concurrent workers.\n",
            "[Parallel(n_jobs=2)]: Done  46 tasks      | elapsed:    0.0s\n",
            "[Parallel(n_jobs=2)]: Done 100 out of 100 | elapsed:    0.0s finished\n"
          ],
          "name": "stderr"
        },
        {
          "output_type": "stream",
          "text": [
            "Validation Accuracy: 92.66666666666666%\n"
          ],
          "name": "stdout"
        },
        {
          "output_type": "stream",
          "text": [
            "[Parallel(n_jobs=2)]: Using backend ThreadingBackend with 2 concurrent workers.\n",
            "[Parallel(n_jobs=2)]: Done  46 tasks      | elapsed:    0.0s\n",
            "[Parallel(n_jobs=2)]: Done 100 out of 100 | elapsed:    0.0s finished\n"
          ],
          "name": "stderr"
        },
        {
          "output_type": "stream",
          "text": [
            "Test Accuracy: 87.55555555555556%\n",
            "Unseen Accuracy: 57.49999999999999%\n"
          ],
          "name": "stdout"
        },
        {
          "output_type": "stream",
          "text": [
            "[Parallel(n_jobs=2)]: Using backend ThreadingBackend with 2 concurrent workers.\n",
            "[Parallel(n_jobs=2)]: Done  46 tasks      | elapsed:    0.0s\n",
            "[Parallel(n_jobs=2)]: Done 100 out of 100 | elapsed:    0.0s finished\n"
          ],
          "name": "stderr"
        }
      ]
    },
    {
      "cell_type": "code",
      "metadata": {
        "id": "Nw34y4KsxPlX",
        "colab": {
          "base_uri": "https://localhost:8080/"
        },
        "outputId": "c110eafe-052f-42f6-e657-55f44fa43ef9"
      },
      "source": [
        "val_acc_class = get_accuracy_by_class(rfc, x_val, y_val)\n",
        "val_acc_class[:] = [x * 100 for x in val_acc_class]\n",
        "test_acc_class = get_accuracy_by_class(rfc, x_test, y_test)\n",
        "test_acc_class[:] = [x * 100 for x in test_acc_class]\n",
        "\n",
        "print(\"Validation accuracy of each class from 0 to 9:\")\n",
        "print('\\n'.join('{}: {}%'.format(*k) for k in enumerate(val_acc_class)))\n",
        "print(\"Test accuracy of each class from 0 to 9:\")\n",
        "print('\\n'.join('{}: {}%'.format(*k) for k in enumerate(test_acc_class)))"
      ],
      "execution_count": 24,
      "outputs": [
        {
          "output_type": "stream",
          "text": [
            "[Parallel(n_jobs=2)]: Using backend ThreadingBackend with 2 concurrent workers.\n",
            "[Parallel(n_jobs=2)]: Done  46 tasks      | elapsed:    0.0s\n",
            "[Parallel(n_jobs=2)]: Done 100 out of 100 | elapsed:    0.0s finished\n"
          ],
          "name": "stderr"
        },
        {
          "output_type": "stream",
          "text": [
            "Validation accuracy of each class from 0 to 9:\n",
            "0: 91.66666666666666%\n",
            "1: 93.75%\n",
            "2: 95.0%\n",
            "3: 84.375%\n",
            "4: 93.87755102040816%\n",
            "5: 88.23529411764706%\n",
            "6: 94.0%\n",
            "7: 100.0%\n",
            "8: 92.5925925925926%\n",
            "9: 91.48936170212765%\n",
            "Test accuracy of each class from 0 to 9:\n",
            "0: 96.0%\n",
            "1: 96.0%\n",
            "2: 90.0%\n",
            "3: 70.73170731707317%\n",
            "4: 94.44444444444444%\n",
            "5: 74.46808510638297%\n",
            "6: 90.0%\n",
            "7: 92.0%\n",
            "8: 97.61904761904762%\n",
            "9: 72.72727272727273%\n"
          ],
          "name": "stdout"
        },
        {
          "output_type": "stream",
          "text": [
            "[Parallel(n_jobs=2)]: Using backend ThreadingBackend with 2 concurrent workers.\n",
            "[Parallel(n_jobs=2)]: Done  46 tasks      | elapsed:    0.0s\n",
            "[Parallel(n_jobs=2)]: Done 100 out of 100 | elapsed:    0.0s finished\n"
          ],
          "name": "stderr"
        }
      ]
    },
    {
      "cell_type": "markdown",
      "metadata": {
        "id": "ghEUGsi2KBwV"
      },
      "source": [
        "# Deep Learning Models"
      ]
    },
    {
      "cell_type": "code",
      "metadata": {
        "id": "LI-kIPe3KBwW"
      },
      "source": [
        "class DigitRecognitionNet1(nn.Module):\n",
        "    def __init__(self):\n",
        "        super(DigitRecognitionNet1, self).__init__()\n",
        "        self.name = 'DigitRecognitionNet1'\n",
        "        self.conv1 = nn.Conv2d(1, 8, 3)\n",
        "        self.conv2 = nn.Conv2d(8, 16, 3)\n",
        "        self.conv3 = nn.Conv2d(16, 32, 3)\n",
        "        self.pool = nn.MaxPool2d(2, 2)\n",
        "        self.fc1 = nn.Linear(32 * 14 * 14, 100)\n",
        "        self.fc2 = nn.Linear(100, 10)\n",
        "        self.dropout1 = nn.Dropout(0.2)\n",
        "        self.dropout2 = nn.Dropout(0.1)\n",
        "\n",
        "    def forward(self, x):\n",
        "        x = self.pool(F.relu(self.conv1(x)))\n",
        "        #print(x.shape)\n",
        "        x = self.pool(F.relu(self.conv2(x)))\n",
        "        #print(x.shape)\n",
        "        x = self.pool(F.relu(self.conv3(x)))\n",
        "        #print(x.shape)\n",
        "        x = x.view(-1, 32 * 14 * 14)\n",
        "        x = F.relu(self.fc1(x))\n",
        "        x = self.fc2(self.dropout1(x))\n",
        "        #x = self.dropout2(x)\n",
        "        #x = x.squeeze(1) # Flatten to [batch_size]\n",
        "        return x\n",
        "    \n",
        "class DigitRecognitionNet2(nn.Module):\n",
        "    def __init__(self):\n",
        "        super(DigitRecognitionNet2, self).__init__()\n",
        "        self.name = 'DigitRecognitionNet2'\n",
        "        self.conv1 = nn.Conv2d(1, 5, 2)\n",
        "        self.conv2 = nn.Conv2d(5, 25, 2)\n",
        "        self.conv3 = nn.Conv2d(25, 50, 3)\n",
        "        self.fc1 = nn.Linear(50 * 124 * 117, 100)\n",
        "        self.fc2 = nn.Linear(100, 10)\n",
        "\n",
        "    def forward(self, x):\n",
        "        x = F.relu(self.conv1(x))\n",
        "        x = F.relu(self.conv2(x))\n",
        "        x = F.relu(self.conv3(x))\n",
        "        x = x.view(-1, 50 * 124 * 117)\n",
        "        x = F.relu(self.fc1(x))\n",
        "        x = self.fc2(x)\n",
        "        #x = x.squeeze(1) # Flatten to [batch_size]\n",
        "        return x\n",
        "    \n",
        "class DigitRecognitionNet3(nn.Module):\n",
        "    def __init__(self):\n",
        "        super(DigitRecognitionNet3, self).__init__()\n",
        "        self.name = 'DigitRecognitionNet3'\n",
        "        self.conv1 = nn.Conv2d(1, 5, 3)\n",
        "        self.conv2 = nn.Conv2d(5, 25, 3)\n",
        "        self.fc1 = nn.Linear(25 * 124 * 117, 100)\n",
        "        self.fc2 = nn.Linear(100, 10)\n",
        "\n",
        "    def forward(self, x):\n",
        "        x = F.relu(self.conv1(x))\n",
        "        x = F.relu(self.conv2(x))\n",
        "        x = x.view(-1, 25 * 124 * 117)\n",
        "        x = F.relu(self.fc1(x))\n",
        "        #x = x.squeeze(1) # Flatten to [batch_size]\n",
        "        return x\n",
        "    \n",
        "class DigitRecognitionNet4(nn.Module):\n",
        "    def __init__(self):\n",
        "        super(DigitRecognitionNet4, self).__init__()\n",
        "        self.name = 'DigitRecognitionNet4'\n",
        "        self.fc1 = nn.Linear(128 * 121, 100)\n",
        "        self.fc2 = nn.Linear(100, 10)\n",
        "\n",
        "    def forward(self, x):\n",
        "        x = x.view(-1, 128 * 121)\n",
        "        x = F.relu(self.fc1(x))\n",
        "        x = self.fc2(x)\n",
        "        #x = x.squeeze(1) # Flatten to [batch_size]\n",
        "        return x"
      ],
      "execution_count": 71,
      "outputs": []
    },
    {
      "cell_type": "code",
      "metadata": {
        "id": "qWPAIiiZb2KV"
      },
      "source": [
        "# After receiving necessary tensors\n",
        "from torch.utils.data import DataLoader\n",
        "\n",
        "def get_data_loader(data, batch_size, training_percentage=0.8):\n",
        "    # subtraction is necessary below because we are using integers and do not want any data to be unused because of rounding down the integers\n",
        "    train_len = int(len(data)*training_percentage)\n",
        "    val_len = len(data) - train_len\n",
        "    #test_len = len(data) - train_len - val_len\n",
        "    print(len(data), train_len, val_len)\n",
        "    train_set, val_set = torch.utils.data.random_split(data, [train_len, val_len])\n",
        "\n",
        "    train_loader = DataLoader(train_set, batch_size, shuffle=True)\n",
        "    if val_len > 0:\n",
        "        val_loader = DataLoader(val_set, batch_size, shuffle=True)\n",
        "    else:\n",
        "        val_loader = []\n",
        "    '''if test_len > 0:\n",
        "        test_loader = DataLoader(test_set, batch_size, shuffle=True)\n",
        "    else:\n",
        "        test_loader = []'''\n",
        "\n",
        "    return train_loader, val_loader#, test_loader\n",
        "\n",
        "batch_size = 64"
      ],
      "execution_count": 72,
      "outputs": []
    },
    {
      "cell_type": "code",
      "metadata": {
        "id": "7VYmIwC9b2KZ"
      },
      "source": [
        "def train_net(net, data, batch_size=64, learning_rate=1e-3, num_epochs=30, training_percentage=0.8, weight_decay=0, save_checkpoint=True):\n",
        "    ########################################################################\n",
        "    # Obtain the PyTorch data loader objects to load batches of the datasets\n",
        "    train_loader, val_loader = get_data_loader(\n",
        "            data, batch_size, training_percentage)\n",
        "    ########################################################################\n",
        "    # Define the Loss function and optimizer\n",
        "    # The loss function will be Binary Cross Entropy (BCE). In this case we\n",
        "    # will use the BCEWithLogitsLoss which takes unnormalized output from\n",
        "    # the neural network and scalar label.\n",
        "    # Optimizer will be SGD with Momentum.\n",
        "    criterion = nn.CrossEntropyLoss()\n",
        "    optimizer = optim.Adam(net.parameters(), lr=learning_rate, weight_decay=weight_decay)\n",
        "    ########################################################################\n",
        "    # Set up some numpy arrays to store the training/test loss/erruracy\n",
        "    train_err = np.zeros(num_epochs)\n",
        "    train_loss = np.zeros(num_epochs)\n",
        "    val_err = np.zeros(num_epochs)\n",
        "    val_loss = np.zeros(num_epochs)\n",
        "    ########################################################################\n",
        "    # Train the network\n",
        "    # Loop over the data iterator and sample a new batch of training data\n",
        "    # Get the output from the network, and optimize our loss function.\n",
        "    start_time = time.time()\n",
        "    for epoch in range(num_epochs):  # loop over the dataset multiple times\n",
        "        total_train_loss = 0.0\n",
        "        total_train_correct = 0.0\n",
        "        total_epoch = 0\n",
        "        for i, data in enumerate(train_loader, 0):\n",
        "            # Get the inputs\n",
        "            inputs, labels = data\n",
        "            net.train()\n",
        "            #############################################\n",
        "            #To Enable GPU Usage\n",
        "            if use_cuda and torch.cuda.is_available():\n",
        "                inputs = inputs.cuda()\n",
        "                labels = labels.cuda()\n",
        "            #############################################\n",
        "            # Zero the parameter gradients\n",
        "            optimizer.zero_grad()\n",
        "            # Forward pass, backward pass, and optimize\n",
        "            outputs = net(inputs)\n",
        "            #print(inputs)\n",
        "            #print(outputs)\n",
        "            #print(labels)\n",
        "            loss = criterion(outputs, labels)\n",
        "            \n",
        "            loss.backward()\n",
        "            optimizer.step()\n",
        "            # Calculate the statistics\n",
        "            pred = outputs.max(1, keepdim=True)[1]\n",
        "            total_train_correct += pred.eq(labels.view_as(pred)).sum().item()\n",
        "            total_epoch += inputs.shape[0]\n",
        "            total_train_loss += loss.item()\n",
        "\n",
        "        train_err[epoch] = float(total_epoch - total_train_correct) / total_epoch\n",
        "        train_loss[epoch] = float(total_train_loss) / (i+1)\n",
        "        val_err[epoch], val_loss[epoch] = evaluate(net, val_loader, criterion)\n",
        "        print((\"Epoch {}: Train err: {}, Train loss: {} |\"+\n",
        "               \"Validation err: {}, Validation loss: {}\").format(\n",
        "                   epoch + 1,\n",
        "                   train_err[epoch],\n",
        "                   train_loss[epoch],\n",
        "                   val_err[epoch],\n",
        "                   val_loss[epoch]))\n",
        "        # Save the current model (checkpoint) to a file\n",
        "        model_path = get_model_name(net.name, batch_size, learning_rate, epoch)\n",
        "        if save_checkpoint:\n",
        "          torch.save(net.state_dict(), model_path)\n",
        "    print('Finished Training')\n",
        "    end_time = time.time()\n",
        "    elapsed_time = end_time - start_time\n",
        "    print(\"Total time elapsed: {:.2f} seconds\".format(elapsed_time))\n",
        "    # Write the train/test loss/err into CSV file for plotting later\n",
        "    epochs = np.arange(1, num_epochs + 1)\n",
        "    np.savetxt(\"{}_train_err.csv\".format(model_path), train_err)\n",
        "    np.savetxt(\"{}_train_loss.csv\".format(model_path), train_loss)\n",
        "    np.savetxt(\"{}_val_err.csv\".format(model_path), val_err)\n",
        "    np.savetxt(\"{}_val_loss.csv\".format(model_path), val_loss)\n",
        "\n",
        "# Evaluating accuracy\n",
        "def evaluate(net, loader, criterion):\n",
        "    \"\"\" Evaluate the network on the validation set.\n",
        "\n",
        "      Args:\n",
        "          net: PyTorch neural network object\n",
        "          loader: PyTorch data loader for the validation set\n",
        "          criterion: The loss function\n",
        "      Returns:\n",
        "          err: A scalar for the avg classification error over the validation set\n",
        "          loss: A scalar for the average loss function over the validation set\n",
        "      \"\"\"\n",
        "    net.eval()\n",
        "    total_loss = 0.0\n",
        "    total_correct = 0\n",
        "    total_epoch = 0\n",
        "    for i, data in enumerate(loader, 0):\n",
        "        inputs, labels = data\n",
        "        #############################################\n",
        "        #To Enable GPU Usage\n",
        "        if use_cuda and torch.cuda.is_available():\n",
        "            inputs = inputs.cuda()\n",
        "            labels = labels.cuda()\n",
        "        #############################################\n",
        "        outputs = net(inputs)\n",
        "        loss = criterion(outputs, labels)\n",
        "        pred = outputs.max(1, keepdim=True)[1]\n",
        "        total_correct += pred.eq(labels.view_as(pred)).sum().item()\n",
        "        total_epoch += inputs.shape[0]\n",
        "        total_loss += loss.item()\n",
        "    if total_epoch == 0:\n",
        "        print(\"No data in loader\")\n",
        "        return 1,1\n",
        "    err = float(total_epoch-total_correct) / total_epoch\n",
        "    loss = float(total_loss) / (i + 1)\n",
        "    return err, loss\n",
        "\n",
        "def get_model_name(name, batch_size, learning_rate, epoch):\n",
        "    \"\"\" Generate a name for the model consisting of all the hyperparameter values\n",
        "\n",
        "    Args:\n",
        "        config: Configuration object containing the hyperparameters\n",
        "    Returns:\n",
        "        path: A string with the hyperparameter name and value concatenated\n",
        "    \"\"\"\n",
        "    path = \"model_{0}_bs{1}_lr{2}_epoch{3}\".format(name, batch_size, learning_rate, epoch)\n",
        "    return path\n",
        "\n",
        "    # Training Curve\n",
        "def plot_training_curve(path):\n",
        "    \"\"\" Plots the training curve for a model run, given the csv files\n",
        "    containing the train/validation error/loss.\n",
        "\n",
        "    Args:\n",
        "        path: The base path of the csv files produced during training\n",
        "    \"\"\"\n",
        "    import matplotlib.pyplot as plt\n",
        "    train_err = np.loadtxt(\"{}_train_err.csv\".format(path))\n",
        "    val_err = np.loadtxt(\"{}_val_err.csv\".format(path))\n",
        "    train_loss = np.loadtxt(\"{}_train_loss.csv\".format(path))\n",
        "    val_loss = np.loadtxt(\"{}_val_loss.csv\".format(path))\n",
        "    plt.title(\"Train vs Validation Error\")\n",
        "    n = len(train_err) # number of epochs\n",
        "    plt.plot(range(1,n+1), train_err, label=\"Train\")\n",
        "    plt.plot(range(1,n+1), val_err, label=\"Validation\")\n",
        "    plt.xlabel(\"Epoch\")\n",
        "    plt.ylabel(\"Error\")\n",
        "    plt.legend(loc='best')\n",
        "    plt.show()\n",
        "    plt.title(\"Train vs Validation Loss\")\n",
        "    plt.plot(range(1,n+1), train_loss, label=\"Train\")\n",
        "    plt.plot(range(1,n+1), val_loss, label=\"Validation\")\n",
        "    plt.xlabel(\"Epoch\")\n",
        "    plt.ylabel(\"Loss\")\n",
        "    plt.legend(loc='best')\n",
        "    plt.show()"
      ],
      "execution_count": 73,
      "outputs": []
    },
    {
      "cell_type": "code",
      "metadata": {
        "colab": {
          "base_uri": "https://localhost:8080/"
        },
        "id": "W2tpyVeqKBwY",
        "outputId": "3899107a-3576-41f9-9f84-c8bed6787b65"
      },
      "source": [
        "def scale_minmax(X, min=0.0, max=1.0):\n",
        "    X_std = (X - X.min()) / (X.max() - X.min())\n",
        "    X_scaled = X_std * (max - min) + min\n",
        "    print(X.min())\n",
        "    print(X.max())\n",
        "    return X_scaled\n",
        "\n",
        "from torch.utils.data import TensorDataset\n",
        "\n",
        "use_mel = True\n",
        "X_final = []\n",
        "if(use_mel):\n",
        "    # Get melspectrograms of each sample\n",
        "    for i in range(len(X_uniform)):\n",
        "        noise = np.random.normal(0, 0.02, 4000)\n",
        "        normalized = librosa.util.normalize(X_uniform[i])\n",
        "        if (i > 1500): normalized += noise #1500 so only half have noise\n",
        "        S = librosa.feature.melspectrogram(y=normalized, n_fft=1024, hop_length=32, sr=8000)\n",
        "        mellog = np.log(S + 1e-9)\n",
        "        melnormalized = librosa.util.normalize(mellog)\n",
        "        #S = np.kron(S, np.ones((1, 11)))\n",
        "        X_final.append(melnormalized)\n",
        "else:\n",
        "    X_final = X_uniform\n",
        "    \n",
        "'''X_np = np.array(X_final)\n",
        "print(X_np.max())\n",
        "print(X_np.mean())\n",
        "X_np = np.clip(X_np, 0, X_np.mean()*4)    # 1600 mels is 2000hz, which is the highest frequency we expect from a person\n",
        "X_final = scale_minmax(X_np, 0, 1)'''\n",
        "X_tensor = torch.Tensor(X_final)\n",
        "y_tensor = torch.Tensor(y).long()\n",
        "\n",
        "X_tensor = X_tensor.unsqueeze(1)\n",
        "print(X_tensor.shape)\n",
        "print(y_tensor.shape)\n",
        "print(X_tensor[0])\n",
        "print(y_tensor[0])\n",
        "\n",
        "train_dataset = TensorDataset(X_tensor[90:], y_tensor[90:])\n",
        "unseen_data = TensorDataset(X_tensor[:90], y_tensor[:90])\n",
        "print(len(train_dataset), len(unseen_data))"
      ],
      "execution_count": 74,
      "outputs": [
        {
          "output_type": "stream",
          "text": [
            "torch.Size([3120, 1, 128, 126])\n",
            "torch.Size([3120])\n",
            "tensor([[[-0.1285, -0.1280, -0.1203,  ...,  0.1612,  0.1610,  0.1607],\n",
            "         [-0.3687, -0.3420, -0.2993,  ...,  0.0607,  0.0641,  0.0652],\n",
            "         [-0.2364, -0.2392, -0.2415,  ...,  0.1580,  0.1627,  0.1642],\n",
            "         ...,\n",
            "         [-0.9326, -0.9362, -0.9463,  ..., -0.7745, -0.7774, -0.7772],\n",
            "         [-0.7556, -0.7595, -0.7704,  ..., -0.8454, -0.8530, -0.8547],\n",
            "         [-0.6771, -0.6804, -0.6895,  ..., -0.7744, -0.7708, -0.7695]]])\n",
            "tensor(9)\n",
            "3030 90\n"
          ],
          "name": "stdout"
        }
      ]
    },
    {
      "cell_type": "code",
      "metadata": {
        "id": "S2JORmiZKBwa"
      },
      "source": [
        "use_cuda = True"
      ],
      "execution_count": 75,
      "outputs": []
    },
    {
      "cell_type": "code",
      "metadata": {
        "colab": {
          "base_uri": "https://localhost:8080/",
          "height": 1000
        },
        "id": "sf2Qm1MdKBwa",
        "outputId": "54471671-73c0-4d23-ec12-a2c50ea964dc"
      },
      "source": [
        "net1 = DigitRecognitionNet1()\n",
        "if use_cuda:\n",
        "  net1 = net1.cuda()\n",
        "train_net(net1, train_dataset, batch_size=128, learning_rate=0.01, num_epochs=50, training_percentage=0.8, weight_decay=0, save_checkpoint=False)\n",
        "plot_training_curve(get_model_name(\"DigitRecognitionNet1\", 128, 0.02, 49))"
      ],
      "execution_count": 30,
      "outputs": [
        {
          "output_type": "stream",
          "text": [
            "3030 2424 606\n",
            "Epoch 1: Train err: 0.816006600660066, Train loss: 2.316304426444204 |Validation err: 0.42574257425742573, Validation loss: 1.1862269401550294\n",
            "Epoch 2: Train err: 0.34777227722772275, Train loss: 0.9416115127111736 |Validation err: 0.21287128712871287, Validation loss: 0.5411222100257873\n",
            "Epoch 3: Train err: 0.19554455445544555, Train loss: 0.5470244257073653 |Validation err: 0.09900990099009901, Validation loss: 0.3261986315250397\n",
            "Epoch 4: Train err: 0.13613861386138615, Train loss: 0.39916456216260005 |Validation err: 0.12376237623762376, Validation loss: 0.3425138980150223\n",
            "Epoch 5: Train err: 0.12582508250825084, Train loss: 0.3418458151189904 |Validation err: 0.07590759075907591, Validation loss: 0.21699532866477966\n",
            "Epoch 6: Train err: 0.08622112211221122, Train loss: 0.22924489998503736 |Validation err: 0.06765676567656766, Validation loss: 0.1895222932100296\n",
            "Epoch 7: Train err: 0.08127062706270627, Train loss: 0.2233061045408249 |Validation err: 0.056105610561056105, Validation loss: 0.14517707154154777\n",
            "Epoch 8: Train err: 0.06146864686468647, Train loss: 0.18221756698269592 |Validation err: 0.04785478547854786, Validation loss: 0.15232448726892472\n",
            "Epoch 9: Train err: 0.05115511551155116, Train loss: 0.1427621539486082 |Validation err: 0.037953795379537955, Validation loss: 0.11376941204071045\n",
            "Epoch 10: Train err: 0.050742574257425746, Train loss: 0.15816029455316694 |Validation err: 0.04455445544554455, Validation loss: 0.13431254476308824\n",
            "Epoch 11: Train err: 0.04744224422442244, Train loss: 0.12944214104821808 |Validation err: 0.04455445544554455, Validation loss: 0.13011529445648193\n",
            "Epoch 12: Train err: 0.039191419141914194, Train loss: 0.09905153405117362 |Validation err: 0.039603960396039604, Validation loss: 0.13934384807944297\n",
            "Epoch 13: Train err: 0.038366336633663366, Train loss: 0.11087261561892535 |Validation err: 0.026402640264026403, Validation loss: 0.09743855223059654\n",
            "Epoch 14: Train err: 0.03712871287128713, Train loss: 0.10714752305495112 |Validation err: 0.028052805280528052, Validation loss: 0.0899055317044258\n",
            "Epoch 15: Train err: 0.02929042904290429, Train loss: 0.0801359568967631 |Validation err: 0.0297029702970297, Validation loss: 0.10587851479649543\n",
            "Epoch 16: Train err: 0.022277227722772276, Train loss: 0.06329387602837462 |Validation err: 0.034653465346534656, Validation loss: 0.11871048510074615\n",
            "Epoch 17: Train err: 0.024752475247524754, Train loss: 0.06716350269945044 |Validation err: 0.02145214521452145, Validation loss: 0.08179824277758599\n",
            "Epoch 18: Train err: 0.014438943894389438, Train loss: 0.04478664289375669 |Validation err: 0.03135313531353135, Validation loss: 0.09893646873533726\n",
            "Epoch 19: Train err: 0.019389438943894388, Train loss: 0.060177751008029044 |Validation err: 0.033003300330033, Validation loss: 0.1240183725953102\n",
            "Epoch 20: Train err: 0.027227722772277228, Train loss: 0.07008806165111692 |Validation err: 0.0462046204620462, Validation loss: 0.13751925379037858\n",
            "Epoch 21: Train err: 0.02268976897689769, Train loss: 0.06781721296475123 |Validation err: 0.034653465346534656, Validation loss: 0.13373295366764068\n",
            "Epoch 22: Train err: 0.02557755775577558, Train loss: 0.07169983457577855 |Validation err: 0.034653465346534656, Validation loss: 0.0974840447306633\n",
            "Epoch 23: Train err: 0.020214521452145213, Train loss: 0.05408653567888235 |Validation err: 0.0429042904290429, Validation loss: 0.1457238346338272\n",
            "Epoch 24: Train err: 0.023514851485148515, Train loss: 0.06103985325286263 |Validation err: 0.0429042904290429, Validation loss: 0.14577925875782966\n",
            "Epoch 25: Train err: 0.015264026402640265, Train loss: 0.044799754469606434 |Validation err: 0.024752475247524754, Validation loss: 0.08899056985974312\n",
            "Epoch 26: Train err: 0.015264026402640265, Train loss: 0.03916691292665506 |Validation err: 0.0231023102310231, Validation loss: 0.10657009817659854\n",
            "Epoch 27: Train err: 0.01485148514851485, Train loss: 0.047187251480002156 |Validation err: 0.028052805280528052, Validation loss: 0.0939892627298832\n",
            "Epoch 28: Train err: 0.015264026402640265, Train loss: 0.04445939417928457 |Validation err: 0.04785478547854786, Validation loss: 0.20921486914157866\n",
            "Epoch 29: Train err: 0.02268976897689769, Train loss: 0.07049978651890629 |Validation err: 0.026402640264026403, Validation loss: 0.09113932102918625\n",
            "Epoch 30: Train err: 0.007425742574257425, Train loss: 0.02272749824547454 |Validation err: 0.01155115511551155, Validation loss: 0.07279104627668857\n",
            "Epoch 31: Train err: 0.01155115511551155, Train loss: 0.035069917965876427 |Validation err: 0.01485148514851485, Validation loss: 0.07072618259117007\n",
            "Epoch 32: Train err: 0.010313531353135313, Train loss: 0.02814094581347155 |Validation err: 0.019801980198019802, Validation loss: 0.09609632343053817\n",
            "Epoch 33: Train err: 0.009900990099009901, Train loss: 0.03223735555442736 |Validation err: 0.036303630363036306, Validation loss: 0.11700130254030228\n",
            "Epoch 34: Train err: 0.014026402640264026, Train loss: 0.038549562524023806 |Validation err: 0.024752475247524754, Validation loss: 0.11969530433416367\n",
            "Epoch 35: Train err: 0.01155115511551155, Train loss: 0.0330544753294242 |Validation err: 0.033003300330033, Validation loss: 0.11551947370171547\n",
            "Epoch 36: Train err: 0.020214521452145213, Train loss: 0.06340882102468688 |Validation err: 0.04785478547854786, Validation loss: 0.1759198635816574\n",
            "Epoch 37: Train err: 0.021864686468646866, Train loss: 0.06569567773687213 |Validation err: 0.033003300330033, Validation loss: 0.11722387745976448\n",
            "Epoch 38: Train err: 0.012376237623762377, Train loss: 0.032141846972272584 |Validation err: 0.024752475247524754, Validation loss: 0.11059442758560181\n",
            "Epoch 39: Train err: 0.011138613861386138, Train loss: 0.028636644557608587 |Validation err: 0.0231023102310231, Validation loss: 0.098548773676157\n",
            "Epoch 40: Train err: 0.01278877887788779, Train loss: 0.03838625400768299 |Validation err: 0.024752475247524754, Validation loss: 0.09018107857555151\n",
            "Epoch 41: Train err: 0.008663366336633664, Train loss: 0.026467142945253534 |Validation err: 0.028052805280528052, Validation loss: 0.091545470058918\n",
            "Epoch 42: Train err: 0.006188118811881188, Train loss: 0.018741001926460547 |Validation err: 0.0231023102310231, Validation loss: 0.08837747424840928\n",
            "Epoch 43: Train err: 0.006600660066006601, Train loss: 0.023629389733909385 |Validation err: 0.019801980198019802, Validation loss: 0.08262015786021948\n",
            "Epoch 44: Train err: 0.006600660066006601, Train loss: 0.016200122251910597 |Validation err: 0.037953795379537955, Validation loss: 0.16647334545850753\n",
            "Epoch 45: Train err: 0.010313531353135313, Train loss: 0.029360813474723774 |Validation err: 0.036303630363036306, Validation loss: 0.1594545513391495\n",
            "Epoch 46: Train err: 0.014438943894389438, Train loss: 0.047219184987050924 |Validation err: 0.028052805280528052, Validation loss: 0.07490355409681797\n",
            "Epoch 47: Train err: 0.008663366336633664, Train loss: 0.03109883009701183 |Validation err: 0.024752475247524754, Validation loss: 0.10798785760998726\n",
            "Epoch 48: Train err: 0.00825082508250825, Train loss: 0.029217192584550696 |Validation err: 0.033003300330033, Validation loss: 0.16896494701504708\n",
            "Epoch 49: Train err: 0.009900990099009901, Train loss: 0.02791739985542862 |Validation err: 0.018151815181518153, Validation loss: 0.08944911658763885\n",
            "Epoch 50: Train err: 0.008663366336633664, Train loss: 0.02465758755754091 |Validation err: 0.028052805280528052, Validation loss: 0.14331030286848545\n",
            "Finished Training\n",
            "Total time elapsed: 20.49 seconds\n"
          ],
          "name": "stdout"
        },
        {
          "output_type": "error",
          "ename": "OSError",
          "evalue": "ignored",
          "traceback": [
            "\u001b[0;31m---------------------------------------------------------------------------\u001b[0m",
            "\u001b[0;31mOSError\u001b[0m                                   Traceback (most recent call last)",
            "\u001b[0;32m<ipython-input-30-24bc2fba10f6>\u001b[0m in \u001b[0;36m<module>\u001b[0;34m()\u001b[0m\n\u001b[1;32m      3\u001b[0m   \u001b[0mnet1\u001b[0m \u001b[0;34m=\u001b[0m \u001b[0mnet1\u001b[0m\u001b[0;34m.\u001b[0m\u001b[0mcuda\u001b[0m\u001b[0;34m(\u001b[0m\u001b[0;34m)\u001b[0m\u001b[0;34m\u001b[0m\u001b[0;34m\u001b[0m\u001b[0m\n\u001b[1;32m      4\u001b[0m \u001b[0mtrain_net\u001b[0m\u001b[0;34m(\u001b[0m\u001b[0mnet1\u001b[0m\u001b[0;34m,\u001b[0m \u001b[0mtrain_dataset\u001b[0m\u001b[0;34m,\u001b[0m \u001b[0mbatch_size\u001b[0m\u001b[0;34m=\u001b[0m\u001b[0;36m128\u001b[0m\u001b[0;34m,\u001b[0m \u001b[0mlearning_rate\u001b[0m\u001b[0;34m=\u001b[0m\u001b[0;36m0.01\u001b[0m\u001b[0;34m,\u001b[0m \u001b[0mnum_epochs\u001b[0m\u001b[0;34m=\u001b[0m\u001b[0;36m50\u001b[0m\u001b[0;34m,\u001b[0m \u001b[0mtraining_percentage\u001b[0m\u001b[0;34m=\u001b[0m\u001b[0;36m0.8\u001b[0m\u001b[0;34m,\u001b[0m \u001b[0mweight_decay\u001b[0m\u001b[0;34m=\u001b[0m\u001b[0;36m0\u001b[0m\u001b[0;34m,\u001b[0m \u001b[0msave_checkpoint\u001b[0m\u001b[0;34m=\u001b[0m\u001b[0;32mFalse\u001b[0m\u001b[0;34m)\u001b[0m\u001b[0;34m\u001b[0m\u001b[0;34m\u001b[0m\u001b[0m\n\u001b[0;32m----> 5\u001b[0;31m \u001b[0mplot_training_curve\u001b[0m\u001b[0;34m(\u001b[0m\u001b[0mget_model_name\u001b[0m\u001b[0;34m(\u001b[0m\u001b[0;34m\"DigitRecognitionNet1\"\u001b[0m\u001b[0;34m,\u001b[0m \u001b[0;36m128\u001b[0m\u001b[0;34m,\u001b[0m \u001b[0;36m0.02\u001b[0m\u001b[0;34m,\u001b[0m \u001b[0;36m49\u001b[0m\u001b[0;34m)\u001b[0m\u001b[0;34m)\u001b[0m\u001b[0;34m\u001b[0m\u001b[0;34m\u001b[0m\u001b[0m\n\u001b[0m",
            "\u001b[0;32m<ipython-input-27-e7d2471b1030>\u001b[0m in \u001b[0;36mplot_training_curve\u001b[0;34m(path)\u001b[0m\n\u001b[1;32m    136\u001b[0m     \"\"\"\n\u001b[1;32m    137\u001b[0m     \u001b[0;32mimport\u001b[0m \u001b[0mmatplotlib\u001b[0m\u001b[0;34m.\u001b[0m\u001b[0mpyplot\u001b[0m \u001b[0;32mas\u001b[0m \u001b[0mplt\u001b[0m\u001b[0;34m\u001b[0m\u001b[0;34m\u001b[0m\u001b[0m\n\u001b[0;32m--> 138\u001b[0;31m     \u001b[0mtrain_err\u001b[0m \u001b[0;34m=\u001b[0m \u001b[0mnp\u001b[0m\u001b[0;34m.\u001b[0m\u001b[0mloadtxt\u001b[0m\u001b[0;34m(\u001b[0m\u001b[0;34m\"{}_train_err.csv\"\u001b[0m\u001b[0;34m.\u001b[0m\u001b[0mformat\u001b[0m\u001b[0;34m(\u001b[0m\u001b[0mpath\u001b[0m\u001b[0;34m)\u001b[0m\u001b[0;34m)\u001b[0m\u001b[0;34m\u001b[0m\u001b[0;34m\u001b[0m\u001b[0m\n\u001b[0m\u001b[1;32m    139\u001b[0m     \u001b[0mval_err\u001b[0m \u001b[0;34m=\u001b[0m \u001b[0mnp\u001b[0m\u001b[0;34m.\u001b[0m\u001b[0mloadtxt\u001b[0m\u001b[0;34m(\u001b[0m\u001b[0;34m\"{}_val_err.csv\"\u001b[0m\u001b[0;34m.\u001b[0m\u001b[0mformat\u001b[0m\u001b[0;34m(\u001b[0m\u001b[0mpath\u001b[0m\u001b[0;34m)\u001b[0m\u001b[0;34m)\u001b[0m\u001b[0;34m\u001b[0m\u001b[0;34m\u001b[0m\u001b[0m\n\u001b[1;32m    140\u001b[0m     \u001b[0mtrain_loss\u001b[0m \u001b[0;34m=\u001b[0m \u001b[0mnp\u001b[0m\u001b[0;34m.\u001b[0m\u001b[0mloadtxt\u001b[0m\u001b[0;34m(\u001b[0m\u001b[0;34m\"{}_train_loss.csv\"\u001b[0m\u001b[0;34m.\u001b[0m\u001b[0mformat\u001b[0m\u001b[0;34m(\u001b[0m\u001b[0mpath\u001b[0m\u001b[0;34m)\u001b[0m\u001b[0;34m)\u001b[0m\u001b[0;34m\u001b[0m\u001b[0;34m\u001b[0m\u001b[0m\n",
            "\u001b[0;32m/usr/local/lib/python3.7/dist-packages/numpy/lib/npyio.py\u001b[0m in \u001b[0;36mloadtxt\u001b[0;34m(fname, dtype, comments, delimiter, converters, skiprows, usecols, unpack, ndmin, encoding, max_rows)\u001b[0m\n\u001b[1;32m    959\u001b[0m             \u001b[0mfname\u001b[0m \u001b[0;34m=\u001b[0m \u001b[0mos_fspath\u001b[0m\u001b[0;34m(\u001b[0m\u001b[0mfname\u001b[0m\u001b[0;34m)\u001b[0m\u001b[0;34m\u001b[0m\u001b[0;34m\u001b[0m\u001b[0m\n\u001b[1;32m    960\u001b[0m         \u001b[0;32mif\u001b[0m \u001b[0m_is_string_like\u001b[0m\u001b[0;34m(\u001b[0m\u001b[0mfname\u001b[0m\u001b[0;34m)\u001b[0m\u001b[0;34m:\u001b[0m\u001b[0;34m\u001b[0m\u001b[0;34m\u001b[0m\u001b[0m\n\u001b[0;32m--> 961\u001b[0;31m             \u001b[0mfh\u001b[0m \u001b[0;34m=\u001b[0m \u001b[0mnp\u001b[0m\u001b[0;34m.\u001b[0m\u001b[0mlib\u001b[0m\u001b[0;34m.\u001b[0m\u001b[0m_datasource\u001b[0m\u001b[0;34m.\u001b[0m\u001b[0mopen\u001b[0m\u001b[0;34m(\u001b[0m\u001b[0mfname\u001b[0m\u001b[0;34m,\u001b[0m \u001b[0;34m'rt'\u001b[0m\u001b[0;34m,\u001b[0m \u001b[0mencoding\u001b[0m\u001b[0;34m=\u001b[0m\u001b[0mencoding\u001b[0m\u001b[0;34m)\u001b[0m\u001b[0;34m\u001b[0m\u001b[0;34m\u001b[0m\u001b[0m\n\u001b[0m\u001b[1;32m    962\u001b[0m             \u001b[0mfencoding\u001b[0m \u001b[0;34m=\u001b[0m \u001b[0mgetattr\u001b[0m\u001b[0;34m(\u001b[0m\u001b[0mfh\u001b[0m\u001b[0;34m,\u001b[0m \u001b[0;34m'encoding'\u001b[0m\u001b[0;34m,\u001b[0m \u001b[0;34m'latin1'\u001b[0m\u001b[0;34m)\u001b[0m\u001b[0;34m\u001b[0m\u001b[0;34m\u001b[0m\u001b[0m\n\u001b[1;32m    963\u001b[0m             \u001b[0mfh\u001b[0m \u001b[0;34m=\u001b[0m \u001b[0miter\u001b[0m\u001b[0;34m(\u001b[0m\u001b[0mfh\u001b[0m\u001b[0;34m)\u001b[0m\u001b[0;34m\u001b[0m\u001b[0;34m\u001b[0m\u001b[0m\n",
            "\u001b[0;32m/usr/local/lib/python3.7/dist-packages/numpy/lib/_datasource.py\u001b[0m in \u001b[0;36mopen\u001b[0;34m(path, mode, destpath, encoding, newline)\u001b[0m\n\u001b[1;32m    193\u001b[0m \u001b[0;34m\u001b[0m\u001b[0m\n\u001b[1;32m    194\u001b[0m     \u001b[0mds\u001b[0m \u001b[0;34m=\u001b[0m \u001b[0mDataSource\u001b[0m\u001b[0;34m(\u001b[0m\u001b[0mdestpath\u001b[0m\u001b[0;34m)\u001b[0m\u001b[0;34m\u001b[0m\u001b[0;34m\u001b[0m\u001b[0m\n\u001b[0;32m--> 195\u001b[0;31m     \u001b[0;32mreturn\u001b[0m \u001b[0mds\u001b[0m\u001b[0;34m.\u001b[0m\u001b[0mopen\u001b[0m\u001b[0;34m(\u001b[0m\u001b[0mpath\u001b[0m\u001b[0;34m,\u001b[0m \u001b[0mmode\u001b[0m\u001b[0;34m,\u001b[0m \u001b[0mencoding\u001b[0m\u001b[0;34m=\u001b[0m\u001b[0mencoding\u001b[0m\u001b[0;34m,\u001b[0m \u001b[0mnewline\u001b[0m\u001b[0;34m=\u001b[0m\u001b[0mnewline\u001b[0m\u001b[0;34m)\u001b[0m\u001b[0;34m\u001b[0m\u001b[0;34m\u001b[0m\u001b[0m\n\u001b[0m\u001b[1;32m    196\u001b[0m \u001b[0;34m\u001b[0m\u001b[0m\n\u001b[1;32m    197\u001b[0m \u001b[0;34m\u001b[0m\u001b[0m\n",
            "\u001b[0;32m/usr/local/lib/python3.7/dist-packages/numpy/lib/_datasource.py\u001b[0m in \u001b[0;36mopen\u001b[0;34m(self, path, mode, encoding, newline)\u001b[0m\n\u001b[1;32m    533\u001b[0m                                       encoding=encoding, newline=newline)\n\u001b[1;32m    534\u001b[0m         \u001b[0;32melse\u001b[0m\u001b[0;34m:\u001b[0m\u001b[0;34m\u001b[0m\u001b[0;34m\u001b[0m\u001b[0m\n\u001b[0;32m--> 535\u001b[0;31m             \u001b[0;32mraise\u001b[0m \u001b[0mIOError\u001b[0m\u001b[0;34m(\u001b[0m\u001b[0;34m\"%s not found.\"\u001b[0m \u001b[0;34m%\u001b[0m \u001b[0mpath\u001b[0m\u001b[0;34m)\u001b[0m\u001b[0;34m\u001b[0m\u001b[0;34m\u001b[0m\u001b[0m\n\u001b[0m\u001b[1;32m    536\u001b[0m \u001b[0;34m\u001b[0m\u001b[0m\n\u001b[1;32m    537\u001b[0m \u001b[0;34m\u001b[0m\u001b[0m\n",
            "\u001b[0;31mOSError\u001b[0m: model_DigitRecognitionNet1_bs128_lr0.02_epoch49_train_err.csv not found."
          ]
        }
      ]
    },
    {
      "cell_type": "code",
      "metadata": {
        "colab": {
          "base_uri": "https://localhost:8080/"
        },
        "id": "KbH_HjcoLxns",
        "outputId": "05186efa-742e-44f6-f474-721440509e13"
      },
      "source": [
        "unseen_loader = DataLoader(unseen_data, 128)\n",
        "err, loss = evaluate(net1, unseen_loader, nn.CrossEntropyLoss())\n",
        "print(err, loss)"
      ],
      "execution_count": 31,
      "outputs": [
        {
          "output_type": "stream",
          "text": [
            "0.35555555555555557 6.415493965148926\n"
          ],
          "name": "stdout"
        }
      ]
    },
    {
      "cell_type": "code",
      "metadata": {
        "id": "TYq9QZOEKf7t"
      },
      "source": [
        "# Evaluating accuracy\n",
        "def evaluate_class(net, loader, criterion, classes):\n",
        "    \"\"\" Evaluate the network on the validation set.\n",
        "\n",
        "      Args:\n",
        "          net: PyTorch neural network object\n",
        "          loader: PyTorch data loader for the validation set\n",
        "          criterion: The loss function\n",
        "      Returns:\n",
        "          err: A scalar for the avg classification error over the validation set\n",
        "          loss: A scalar for the average loss function over the validation set\n",
        "      \"\"\"\n",
        "    net.eval()\n",
        "\n",
        "    correct = [0]*classes\n",
        "    total = [0]*classes\n",
        "    print(correct)\n",
        "\n",
        "    for i, data in enumerate(loader, 0):\n",
        "        inputs, labels = data\n",
        "        #############################################\n",
        "        #To Enable GPU Usage\n",
        "        if use_cuda and torch.cuda.is_available():\n",
        "            inputs = inputs.cuda()\n",
        "            labels = labels.cuda()\n",
        "        #############################################\n",
        "        outputs = net(inputs)\n",
        "        #print(outputs)\n",
        "        loss = criterion(outputs, labels)\n",
        "        pred = outputs.max(1, keepdim=True)[1]\n",
        "        #print(pred)\n",
        "        for j in range(len(pred)):\n",
        "          correct[labels[j].item()] += pred[j][0].item() == labels[j].item()\n",
        "          total[labels[j].item()] += 1\n",
        "\n",
        "    print(correct)\n",
        "    print(total)\n",
        "    return np.array(correct)/np.array(total)"
      ],
      "execution_count": 59,
      "outputs": []
    },
    {
      "cell_type": "code",
      "metadata": {
        "id": "3xvThiybOIxc",
        "outputId": "f6844123-4967-4bb2-cc80-60e594d5fda2",
        "colab": {
          "base_uri": "https://localhost:8080/"
        }
      },
      "source": [
        "train_loader, val_loader = get_data_loader(\n",
        "          train_dataset, 64, 0.8)\n",
        "\n",
        "\n",
        "class_accuracies_val = evaluate_class(net1, val_loader, nn.CrossEntropyLoss(), 10)"
      ],
      "execution_count": 84,
      "outputs": [
        {
          "output_type": "stream",
          "text": [
            "3030 2424 606\n",
            "[0, 0, 0, 0, 0, 0, 0, 0, 0, 0]\n",
            "[54, 63, 56, 65, 74, 57, 50, 68, 61, 51]\n",
            "[57, 63, 57, 66, 74, 58, 50, 68, 61, 52]\n"
          ],
          "name": "stdout"
        }
      ]
    },
    {
      "cell_type": "code",
      "metadata": {
        "id": "QCmS1HaNbits",
        "outputId": "a2bdb8e9-f0eb-438b-e491-65c81f7f2f58",
        "colab": {
          "base_uri": "https://localhost:8080/"
        }
      },
      "source": [
        "class_accuracies_unseen = evaluate_class(net1, unseen_loader, nn.CrossEntropyLoss(), 10)"
      ],
      "execution_count": 86,
      "outputs": [
        {
          "output_type": "stream",
          "text": [
            "[0, 0, 0, 0, 0, 0, 0, 0, 0, 0]\n",
            "[6, 8, 4, 6, 4, 7, 3, 5, 8, 7]\n",
            "[10, 8, 7, 10, 7, 11, 10, 7, 10, 10]\n"
          ],
          "name": "stdout"
        }
      ]
    },
    {
      "cell_type": "code",
      "metadata": {
        "id": "6jKtsz4fSFFy",
        "outputId": "4714babc-74b1-4442-a0a4-803191165465",
        "colab": {
          "base_uri": "https://localhost:8080/",
          "height": 585
        }
      },
      "source": [
        "ind = np.arange(10)\n",
        "fig, ax = plt.subplots()\n",
        "\n",
        "width = 0.35\n",
        "\n",
        "rect = ax.bar(ind-width/2, class_accuracies*100, width, label='Validation Set')\n",
        "rect2 = ax.bar(ind+width/2, class_accuracies_unseen*100, width, label='Full Unseen Set')\n",
        "\n",
        "ax.set_ylabel('Accuracy (%)')\n",
        "ax.set_title('Model Accuracy')\n",
        "ax.set_xlabel('Digits')\n",
        "ax.set_xticks(ind)\n",
        "ax.set_xticklabels([0, 1, 2, 3, 4, 5, 6, 7, 8, 9])\n",
        "ax.legend()\n",
        "\n",
        "#ax.bar_label(rects1, padding=3)\n",
        "#ax.bar_label(rects2, padding=3)\n",
        "fig.tight_layout()\n",
        "plt.show()"
      ],
      "execution_count": 114,
      "outputs": [
        {
          "output_type": "display_data",
          "data": {
            "image/png": "[encoded data removed]",
            "text/plain": [
              "<Figure size 864x576 with 1 Axes>"
            ]
          },
          "metadata": {
            "tags": [],
            "needs_background": "light"
          }
        }
      ]
    },
    {
      "cell_type": "code",
      "metadata": {
        "id": "5XhDaPXvKBwa"
      },
      "source": [
        "net2 = DigitRecognitionNet2()\n",
        "if use_cuda:\n",
        "  net2 = net2.cuda()\n",
        "train_net(net2, dataset, batch_size=64, learning_rate=1e-3, num_epochs=600, training_percentage=0.8, weight_decay=0.001, save_checkpoint=False)\n",
        "plot_training_curve(get_model_name(\"DigitRecognitionNet2\", 64, 1e-3, 599))"
      ],
      "execution_count": null,
      "outputs": []
    },
    {
      "cell_type": "code",
      "metadata": {
        "id": "e6MPO1HQKBwb"
      },
      "source": [
        "net3 = DigitRecognitionNet3()\n",
        "if use_cuda:\n",
        "  net3 = net3.cuda()\n",
        "train_net(net3, dataset, batch_size=75, learning_rate=1e-3, num_epochs=600, training_percentage=0.7, weight_decay=0, save_checkpoint=False)\n",
        "plot_training_curve(get_model_name(\"DigitRecognitionNet3\", 64, 1e-3, 599))"
      ],
      "execution_count": null,
      "outputs": []
    },
    {
      "cell_type": "code",
      "metadata": {
        "id": "Ui6xYaqCb2Kd"
      },
      "source": [
        "net4 = DigitRecognitionNet4()\n",
        "if use_cuda:\n",
        "  net4 = net4.cuda()\n",
        "train_net(net4, dataset, batch_size=64, learning_rate=1e-4, num_epochs=200, training_percentage=0.7, weight_decay=0, save_checkpoint=False)\n",
        "plot_training_curve(get_model_name(\"DigitRecognitionNet4\", 64, 1e-4, 199))"
      ],
      "execution_count": null,
      "outputs": []
    },
    {
      "cell_type": "code",
      "metadata": {
        "id": "_9WQgTw6KBwc"
      },
      "source": [
        ""
      ],
      "execution_count": null,
      "outputs": []
    }
  ]
}