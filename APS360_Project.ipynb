{
  "nbformat": 4,
  "nbformat_minor": 0,
  "metadata": {
    "colab": {
      "name": "APS360 Project",
      "provenance": [],
      "collapsed_sections": [],
      "toc_visible": true,
      "include_colab_link": true
    },
    "kernelspec": {
      "display_name": "Python 3",
      "language": "python",
      "name": "python3"
    },
    "language_info": {
      "codemirror_mode": {
        "name": "ipython",
        "version": 3
      },
      "file_extension": ".py",
      "mimetype": "text/x-python",
      "name": "python",
      "nbconvert_exporter": "python",
      "pygments_lexer": "ipython3",
      "version": "3.8.5"
    },
    "accelerator": "GPU"
  },
  "cells": [
    {
      "cell_type": "markdown",
      "metadata": {
        "id": "view-in-github",
        "colab_type": "text"
      },
      "source": [
        "<a href=\"https://colab.research.google.com/github/Ali-Sab/aps360_project/blob/main/APS360_Project.ipynb\" target=\"_parent\"><img src=\"https://colab.research.google.com/assets/colab-badge.svg\" alt=\"Open In Colab\"/></a>"
      ]
    },
    {
      "cell_type": "code",
      "metadata": {
        "colab": {
          "base_uri": "https://localhost:8080/"
        },
        "id": "lLSzgr-8DSUr",
        "outputId": "acd24313-ecbc-4fa1-da49-bb6dba87185e"
      },
      "source": [
        "import numpy as np\n",
        "import time\n",
        "import matplotlib.pyplot as plt\n",
        "import torch\n",
        "import torch.nn as nn\n",
        "import torch.nn.functional as F\n",
        "from torchvision import datasets, transforms\n",
        "import matplotlib.pyplot as plt # for plotting\n",
        "import torch.optim as optim\n",
        "import requests\n",
        "torch.manual_seed(50)"
      ],
      "execution_count": 1,
      "outputs": [
        {
          "output_type": "execute_result",
          "data": {
            "text/plain": [
              "<torch._C.Generator at 0x7f6e08e5b7d0>"
            ]
          },
          "metadata": {
            "tags": []
          },
          "execution_count": 1
        }
      ]
    },
    {
      "cell_type": "code",
      "metadata": {
        "id": "bevxoaRrb2J-"
      },
      "source": [
        "# import audio libraries\n",
        "import os\n",
        "from os import listdir\n",
        "from os.path import join\n",
        "from scipy.io import wavfile\n",
        "import IPython.display as ipd\n",
        "\n",
        "import librosa\n",
        "from librosa.feature import melspectrogram\n",
        "from librosa import power_to_db\n",
        "from librosa.effects import trim"
      ],
      "execution_count": 3,
      "outputs": []
    },
    {
      "cell_type": "code",
      "metadata": {
        "id": "RVI7aS9Eb2KD"
      },
      "source": [
        "#Plot size\n",
        "plt.rcParams['figure.figsize'] = [12, 8]"
      ],
      "execution_count": null,
      "outputs": []
    },
    {
      "cell_type": "code",
      "metadata": {
        "id": "KfTO1huZmGl-"
      },
      "source": [
        "#Download team data from Google Drive\n",
        "if(not os.path.exists(\"./team_data.zip\")):\n",
        "    team_data_url = \"https://drive.google.com/uc?export=download&id=1eycnGtDVzqW57EUBEQmJDPz2F1Dqgqdc\" #All data\n",
        "    #team_data_url = \"https://drive.google.com/uc?export=download&id=104eyGYcZADgDiZ1_PLtLGQvx0MIbaKtY\" #Excluding angie's data\n",
        "\n",
        "    resp = requests.get(team_data_url, stream=True)\n",
        "\n",
        "    with open(\"./team_data.zip\", 'wb') as fd:\n",
        "        for chunk in resp.iter_content(chunk_size=128):\n",
        "            fd.write(chunk)"
      ],
      "execution_count": 239,
      "outputs": []
    },
    {
      "cell_type": "code",
      "metadata": {
        "id": "2e0Ulj3wnHs_"
      },
      "source": [
        "#Download Kaggle data from Google Drive\n",
        "if(not os.path.exists(\"./KaggleFSDD.zip\")):\n",
        "    kaggle_data_url = \"https://drive.google.com/uc?export=download&id=1Uoy-XzAqE12FIPdqf9adFz7dfTcjDI9N\"\n",
        "\n",
        "    resp = requests.get(kaggle_data_url, stream=True)\n",
        "\n",
        "    with open(\"./KaggleFSDD.zip\", 'wb') as fd:\n",
        "        for chunk in resp.iter_content(chunk_size=128):\n",
        "            fd.write(chunk)"
      ],
      "execution_count": 5,
      "outputs": []
    },
    {
      "cell_type": "code",
      "metadata": {
        "id": "hvfK2yuqonvQ"
      },
      "source": [
        "#if(not os.path.exists(\"./team_recordings\")):\n",
        "!unzip './team_data.zip' -d './team_recordings'"
      ],
      "execution_count": null,
      "outputs": []
    },
    {
      "cell_type": "code",
      "metadata": {
        "id": "Bur1GUospsS7"
      },
      "source": [
        "yif(not os.path.exists(\"./kaggle_recordings\")):\n",
        "    !unzip './KaggleFSDD.zip' -d './kaggle_recordings'"
      ],
      "execution_count": null,
      "outputs": []
    },
    {
      "cell_type": "code",
      "metadata": {
        "id": "bue4-gKlb2KG"
      },
      "source": [
        "# load audio files\n",
        "def load_files(files, X, y):\n",
        "    for file in files:\n",
        "        label = int(file.split(\"_\")[0])\n",
        "        rate, data = wavfile.read(join(dir, file))\n",
        "        X.append(data.astype(np.float32))\n",
        "        y.append(label)\n",
        "    return rate\n",
        "\n",
        "X = []\n",
        "y = []\n",
        "\n",
        "# load team recordings\n",
        "dir = './team_recordings/filtered' #change to /all for all\n",
        "files = listdir(dir)\n",
        "rate1 = load_files(files, X, y)\n",
        "\n",
        "# load Kaggle recordings\n",
        "dir = './kaggle_recordings/recordings'\n",
        "files = listdir(dir)\n",
        "rate2 = load_files(files, X, y)\n",
        "\n",
        "rate = min(rate1, rate2)"
      ],
      "execution_count": 430,
      "outputs": []
    },
    {
      "cell_type": "code",
      "metadata": {
        "colab": {
          "base_uri": "https://localhost:8080/",
          "height": 325
        },
        "id": "ZI-uNy4-b2KJ",
        "outputId": "ef2d5c85-686e-4d68-d836-f648670e5115"
      },
      "source": [
        "# check distribution of length of audio clips\n",
        "\n",
        "def show_length_distribution(signals, rate=8000):\n",
        "    sample_times = [len(x)/rate for x in signals]\n",
        "\n",
        "    fig = plt.figure()\n",
        "    plt.hist(x=sample_times, bins = 'fd')\n",
        "    fig.suptitle('Audio signal lengths')\n",
        "    plt.xlabel('Duration (seconds)')\n",
        "    plt.ylabel('Count')\n",
        "\n",
        "    plt.show()\n",
        "    return sample_times\n",
        "\n",
        "lengths = show_length_distribution(X)\n",
        "print(np.percentile(lengths, 95))"
      ],
      "execution_count": 431,
      "outputs": [
        {
          "output_type": "display_data",
          "data": {
            "image/png": "[encoded data removed]",
            "text/plain": [
              "<Figure size 432x288 with 1 Axes>"
            ]
          },
          "metadata": {
            "tags": [],
            "needs_background": "light"
          }
        },
        {
          "output_type": "stream",
          "text": [
            "0.6648874999999999\n"
          ],
          "name": "stdout"
        }
      ]
    },
    {
      "cell_type": "code",
      "metadata": {
        "id": "n1KXc0ksxStS",
        "colab": {
          "base_uri": "https://localhost:8080/",
          "height": 325
        },
        "outputId": "b4b4a502-fdbb-4d8a-98d0-55d89d762fd7"
      },
      "source": [
        "def remove_silence(sample, sr= 8000, top_db = 5):\n",
        "    \"\"\"This function removes trailing and leading silence periods of audio signals.\n",
        "    \"\"\"\n",
        "    y = np.array(sample, dtype = np.float64)\n",
        "    #y = librosa.util.normalize(y)\n",
        "    # Trim the beginning and ending silence\n",
        "    yt, _ = trim(y, top_db= top_db)\n",
        "    return yt\n",
        "X_tr = [remove_silence(x) for x in X]\n",
        "\n",
        "lengths = show_length_distribution(X_tr);\n",
        "print(np.percentile(lengths, 99))"
      ],
      "execution_count": 432,
      "outputs": [
        {
          "output_type": "display_data",
          "data": {
            "image/png": "[encoded data removed]",
            "text/plain": [
              "<Figure size 432x288 with 1 Axes>"
            ]
          },
          "metadata": {
            "tags": [],
            "needs_background": "light"
          }
        },
        {
          "output_type": "stream",
          "text": [
            "0.512\n"
          ],
          "name": "stdout"
        }
      ]
    },
    {
      "cell_type": "code",
      "metadata": {
        "id": "g-6LK7hnb2KP"
      },
      "source": [
        "# pad all clips to same length\n",
        "\n",
        "N = int(rate * 0.5)\n",
        "X_uniform = []\n",
        "for x in X_tr:\n",
        "    if len(x) < N:\n",
        "        X_uniform.append(np.pad(x, (0, N - len(x)), constant_values = (0, 0)))\n",
        "    else:\n",
        "        X_uniform.append(x[:N])"
      ],
      "execution_count": 433,
      "outputs": []
    },
    {
      "cell_type": "code",
      "metadata": {
        "colab": {
          "base_uri": "https://localhost:8080/",
          "height": 340
        },
        "id": "LDh5Xp4eb2KR",
        "outputId": "cef3ca38-4f99-4361-a702-af7db945e7ec"
      },
      "source": [
        "# playback some audio clips\n",
        "\n",
        "index = 120\n",
        "print(\"Digit: {}\".format(y[index]))\n",
        "norm = librosa.util.normalize(X_uniform[index])\n",
        "norm += np.random.normal(0, 0.02, 4000)\n",
        "plt.plot(norm)\n",
        "plt.show()\n",
        "ipd.Audio(norm, rate=8000)"
      ],
      "execution_count": 434,
      "outputs": [
        {
          "output_type": "stream",
          "text": [
            "Digit: 2\n"
          ],
          "name": "stdout"
        },
        {
          "output_type": "display_data",
          "data": {
            "image/png": "[encoded data removed]",
            "text/plain": [
              "<Figure size 432x288 with 1 Axes>"
            ]
          },
          "metadata": {
            "tags": [],
            "needs_background": "light"
          }
        },
        {
          "output_type": "execute_result",
          "data": {
            "text/html": [
              "\n",
              "                <audio controls=\"controls\" >\n",
              "                    <source src=\"data:audio/wav;base64,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\" type=\"audio/wav\" />\n",
              "                    Your browser does not support the audio element.\n",
              "                </audio>\n",
              "              "
            ],
            "text/plain": [
              "<IPython.lib.display.Audio object>"
            ]
          },
          "metadata": {
            "tags": []
          },
          "execution_count": 434
        }
      ]
    },
    {
      "cell_type": "code",
      "metadata": {
        "colab": {
          "base_uri": "https://localhost:8080/",
          "height": 300
        },
        "id": "mCU156-Lb2KS",
        "outputId": "2658c441-ce1c-49bc-dc86-d41f1fa258b2"
      },
      "source": [
        "from librosa import display\n",
        "\n",
        "S = librosa.util.normalize(X_uniform[0])\n",
        "S = librosa.feature.melspectrogram(y=X_uniform[0], sr=8000, n_fft=1024, hop_length=32, n_mels=126)\n",
        "print(S.shape)\n",
        "\n",
        "display.specshow(librosa.power_to_db(S, ref=np.max), x_axis='time', y_axis='mel', fmin=25, fmax=280, sr=8000, hop_length=44)\n",
        "\n",
        "# Need to transpose first to get n_mel/timestep format\n",
        "S = S.transpose()\n",
        "\n",
        "#print(S[0])\n",
        "\n",
        "#from scipy import signal\n",
        "#frequencies, times, spectrogram = signal.spectrogram(X_uniform[4], 8000)\n",
        "#plt.pcolormesh(times, frequencies, spectrogram)\n",
        "#plt.imshow(spectrogram)\n",
        "#plt.ylabel('Frequency [Hz]')\n",
        "#plt.xlabel('Time [sec]')\n",
        "\n",
        "#plt.show()\n",
        "#for x in X_uniform[0]:\n",
        "#   print(x)"
      ],
      "execution_count": 264,
      "outputs": [
        {
          "output_type": "stream",
          "text": [
            "(126, 126)\n"
          ],
          "name": "stdout"
        },
        {
          "output_type": "display_data",
          "data": {
            "image/png": "[encoded data removed]",
            "text/plain": [
              "<Figure size 432x288 with 1 Axes>"
            ]
          },
          "metadata": {
            "tags": [],
            "needs_background": "light"
          }
        }
      ]
    },
    {
      "cell_type": "code",
      "metadata": {
        "id": "sHE7lC_rEM0M"
      },
      "source": [
        "import sklearn\n",
        "from sklearn.ensemble import RandomForestClassifier\n",
        "from sklearn.model_selection import cross_val_score\n",
        "from sklearn.model_selection import train_test_split\n",
        "\n",
        "# Form the training, validation, and test sets\n",
        "def get_data_sets(data, labels, training_percentage=0.7, use_mel=False):\n",
        "    # subtraction is necessary below because we are using integers and do not want any data to be unused because of rounding down the integers\n",
        "    train_len = int(len(data)*training_percentage)\n",
        "    val_len = int(len(data)*(1-training_percentage)/2)\n",
        "    test_len = len(data) - train_len - val_len\n",
        "\n",
        "    if(use_mel):\n",
        "        # Get melspectrograms of each sample\n",
        "        mel_list = []\n",
        "        for i in range(len(data)):\n",
        "            S = librosa.feature.melspectrogram(y=data[i], sr=8000, n_fft=1024, hop_length=44)\n",
        "            S = np.kron(S, np.ones((1, 20)))\n",
        "            S = S.flatten()\n",
        "            mel_list.append(S)\n",
        "        x_train, x_val, y_train, y_val = sklearn.model_selection.train_test_split(mel_list, labels, test_size=val_len, random_state=1)\n",
        "    else:\n",
        "        x_train, x_val, y_train, y_val = sklearn.model_selection.train_test_split(data, labels, test_size=val_len, random_state=1)\n",
        "\n",
        "    x_train, x_test, y_train, y_test = sklearn.model_selection.train_test_split(x_train, y_train, test_size=test_len, random_state=1)\n",
        "\n",
        "    return x_train, y_train, x_val, y_val, x_test, y_test\n",
        "\n",
        "# Calc\n",
        "def get_accuracy(classifier, x_data, y_data):\n",
        "    pred = rfc.predict(x_data)\n",
        "    correct = 0\n",
        "    total = len(pred)\n",
        "    for i in range(len(pred)):\n",
        "        correct += pred[i] == y_data[i]\n",
        "\n",
        "    return correct/total\n",
        "\n",
        "def get_accuracy_by_class(classifier, x_data, y_data):\n",
        "    pred = rfc.predict(x_data)\n",
        "    classes = max(y_data) + 1\n",
        "    correct = [0]*classes\n",
        "    total = [0]*classes\n",
        "    for i in range(len(pred)):\n",
        "        correct[y_data[i]] += pred[i] == y_data[i]\n",
        "        total[y_data[i]] += 1\n",
        "    acc = [x / y for x, y in zip(correct, total)]\n",
        "\n",
        "    return acc"
      ],
      "execution_count": 8,
      "outputs": []
    },
    {
      "cell_type": "code",
      "metadata": {
        "colab": {
          "base_uri": "https://localhost:8080/"
        },
        "id": "a-ecVBYuOlZR",
        "outputId": "860ddfa0-d9e1-4346-9ea2-fa54e0e437b9"
      },
      "source": [
        "#For baseline model, will need to implement random forest classifier\n",
        "#Will use the following links as guides: (moreso the second link)\n",
        "#https://medium.com/@pratyush.sinha/training-random-forest-by-back-propagation-for-fun-pytorch-part-1-a54674355aa7\n",
        "#https://medium.com/@hjhuney/implementing-a-random-forest-classification-model-in-python-583891c99652\n",
        "\n",
        "rfc = RandomForestClassifier(random_state=10, n_estimators=100, max_features=100, warm_start=True, min_samples_leaf=10, verbose=True, n_jobs=-1)\n",
        "x_train, y_train, x_val, y_val, x_test, y_test = get_data_sets(X_uniform[120:], y[120:], use_mel=True)\n",
        "rfc.fit(x_train, y_train)"
      ],
      "execution_count": 9,
      "outputs": [
        {
          "output_type": "stream",
          "text": [
            "[Parallel(n_jobs=-1)]: Using backend ThreadingBackend with 2 concurrent workers.\n",
            "[Parallel(n_jobs=-1)]: Done  46 tasks      | elapsed:    2.9s\n",
            "[Parallel(n_jobs=-1)]: Done 100 out of 100 | elapsed:    6.2s finished\n"
          ],
          "name": "stderr"
        },
        {
          "output_type": "execute_result",
          "data": {
            "text/plain": [
              "RandomForestClassifier(bootstrap=True, ccp_alpha=0.0, class_weight=None,\n",
              "                       criterion='gini', max_depth=None, max_features=100,\n",
              "                       max_leaf_nodes=None, max_samples=None,\n",
              "                       min_impurity_decrease=0.0, min_impurity_split=None,\n",
              "                       min_samples_leaf=10, min_samples_split=2,\n",
              "                       min_weight_fraction_leaf=0.0, n_estimators=100,\n",
              "                       n_jobs=-1, oob_score=False, random_state=10,\n",
              "                       verbose=True, warm_start=True)"
            ]
          },
          "metadata": {
            "tags": []
          },
          "execution_count": 9
        }
      ]
    },
    {
      "cell_type": "code",
      "metadata": {
        "colab": {
          "base_uri": "https://localhost:8080/"
        },
        "id": "QegF0qFctDwY",
        "outputId": "303cf9ea-46be-46dc-d572-c0c2133501dc"
      },
      "source": [
        "print(\"Validation Accuracy: {}%\".format(100*get_accuracy(rfc, x_val, y_val)))\n",
        "print(\"Test Accuracy: {}%\".format(100*get_accuracy(rfc, x_test, y_test)))\n",
        "\n",
        "X_unseen = []\n",
        "for i in range(120):\n",
        "    S = librosa.feature.melspectrogram(y=X_uniform[i], sr=8000, n_fft=1024, hop_length=44)\n",
        "    S = np.kron(S, np.ones((1, 20)))\n",
        "    S = S.flatten()\n",
        "    X_unseen.append(S)\n",
        "print(\"Unseen Accuracy: {}%\".format(100*get_accuracy(rfc, X_unseen, y[:120])))"
      ],
      "execution_count": 10,
      "outputs": [
        {
          "output_type": "stream",
          "text": [
            "[Parallel(n_jobs=2)]: Using backend ThreadingBackend with 2 concurrent workers.\n",
            "[Parallel(n_jobs=2)]: Done  46 tasks      | elapsed:    0.0s\n",
            "[Parallel(n_jobs=2)]: Done 100 out of 100 | elapsed:    0.0s finished\n"
          ],
          "name": "stderr"
        },
        {
          "output_type": "stream",
          "text": [
            "Validation Accuracy: 94.0%\n"
          ],
          "name": "stdout"
        },
        {
          "output_type": "stream",
          "text": [
            "[Parallel(n_jobs=2)]: Using backend ThreadingBackend with 2 concurrent workers.\n",
            "[Parallel(n_jobs=2)]: Done  46 tasks      | elapsed:    0.0s\n",
            "[Parallel(n_jobs=2)]: Done 100 out of 100 | elapsed:    0.0s finished\n"
          ],
          "name": "stderr"
        },
        {
          "output_type": "stream",
          "text": [
            "Test Accuracy: 88.66666666666667%\n",
            "Unseen Accuracy: 50.0%\n"
          ],
          "name": "stdout"
        },
        {
          "output_type": "stream",
          "text": [
            "[Parallel(n_jobs=2)]: Using backend ThreadingBackend with 2 concurrent workers.\n",
            "[Parallel(n_jobs=2)]: Done  46 tasks      | elapsed:    0.0s\n",
            "[Parallel(n_jobs=2)]: Done 100 out of 100 | elapsed:    0.0s finished\n"
          ],
          "name": "stderr"
        }
      ]
    },
    {
      "cell_type": "code",
      "metadata": {
        "id": "Nw34y4KsxPlX",
        "colab": {
          "base_uri": "https://localhost:8080/"
        },
        "outputId": "2e5da6a0-937d-47d2-cd40-c8882df29574"
      },
      "source": [
        "val_acc_class = get_accuracy_by_class(rfc, x_val, y_val)\n",
        "val_acc_class[:] = [x * 100 for x in val_acc_class]\n",
        "test_acc_class = get_accuracy_by_class(rfc, x_test, y_test)\n",
        "test_acc_class[:] = [x * 100 for x in test_acc_class]\n",
        "\n",
        "print(\"Validation accuracy of each class from 0 to 9:\")\n",
        "print('\\n'.join('{}: {}%'.format(*k) for k in enumerate(val_acc_class)))\n",
        "print(\"Test accuracy of each class from 0 to 9:\")\n",
        "print('\\n'.join('{}: {}%'.format(*k) for k in enumerate(test_acc_class)))"
      ],
      "execution_count": null,
      "outputs": [
        {
          "output_type": "stream",
          "text": [
            "[Parallel(n_jobs=2)]: Using backend ThreadingBackend with 2 concurrent workers.\n",
            "[Parallel(n_jobs=2)]: Done  46 tasks      | elapsed:    0.0s\n",
            "[Parallel(n_jobs=2)]: Done 100 out of 100 | elapsed:    0.0s finished\n",
            "[Parallel(n_jobs=2)]: Using backend ThreadingBackend with 2 concurrent workers.\n",
            "[Parallel(n_jobs=2)]: Done  46 tasks      | elapsed:    0.0s\n",
            "[Parallel(n_jobs=2)]: Done 100 out of 100 | elapsed:    0.0s finished\n"
          ],
          "name": "stderr"
        },
        {
          "output_type": "stream",
          "text": [
            "Validation accuracy of each class from 0 to 9:\n",
            "0: 97.91666666666666%\n",
            "1: 93.75%\n",
            "2: 100.0%\n",
            "3: 87.5%\n",
            "4: 97.95918367346938%\n",
            "5: 96.07843137254902%\n",
            "6: 94.0%\n",
            "7: 100.0%\n",
            "8: 96.29629629629629%\n",
            "9: 87.2340425531915%\n",
            "Test accuracy of each class from 0 to 9:\n",
            "0: 96.0%\n",
            "1: 96.0%\n",
            "2: 95.0%\n",
            "3: 80.48780487804879%\n",
            "4: 97.22222222222221%\n",
            "5: 85.1063829787234%\n",
            "6: 94.0%\n",
            "7: 94.0%\n",
            "8: 100.0%\n",
            "9: 72.72727272727273%\n"
          ],
          "name": "stdout"
        }
      ]
    },
    {
      "cell_type": "markdown",
      "metadata": {
        "id": "ghEUGsi2KBwV"
      },
      "source": [
        "# Deep Learning Models"
      ]
    },
    {
      "cell_type": "code",
      "metadata": {
        "id": "LI-kIPe3KBwW"
      },
      "source": [
        "class DigitRecognitionNet1(nn.Module):\n",
        "    def __init__(self):\n",
        "        super(DigitRecognitionNet1, self).__init__()\n",
        "        self.name = 'DigitRecognitionNet1'\n",
        "        self.conv1 = nn.Conv2d(1, 8, 3)\n",
        "        self.conv2 = nn.Conv2d(8, 16, 3)\n",
        "        self.conv3 = nn.Conv2d(16, 32, 3)\n",
        "        self.pool = nn.MaxPool2d(2, 2)\n",
        "        self.fc1 = nn.Linear(32 * 14 * 14, 100)\n",
        "        self.fc2 = nn.Linear(100, 10)\n",
        "        self.dropout1 = nn.Dropout(0.2)\n",
        "        self.dropout2 = nn.Dropout(0.1)\n",
        "\n",
        "    def forward(self, x):\n",
        "        x = self.pool(F.relu(self.conv1(x)))\n",
        "        #print(x.shape)\n",
        "        x = self.pool(F.relu(self.conv2(x)))\n",
        "        #print(x.shape)\n",
        "        x = self.pool(F.relu(self.conv3(x)))\n",
        "        #print(x.shape)\n",
        "        x = x.view(-1, 32 * 14 * 14)\n",
        "        x = F.relu(self.fc1(x))\n",
        "        x = self.fc2(self.dropout1(x))\n",
        "        #x = self.dropout2(x)\n",
        "        #x = x.squeeze(1) # Flatten to [batch_size]\n",
        "        return x\n",
        "    \n",
        "class DigitRecognitionNet2(nn.Module):\n",
        "    def __init__(self):\n",
        "        super(DigitRecognitionNet2, self).__init__()\n",
        "        self.name = 'DigitRecognitionNet2'\n",
        "        self.conv1 = nn.Conv2d(1, 5, 2)\n",
        "        self.conv2 = nn.Conv2d(5, 25, 2)\n",
        "        self.conv3 = nn.Conv2d(25, 50, 3)\n",
        "        self.fc1 = nn.Linear(50 * 124 * 117, 100)\n",
        "        self.fc2 = nn.Linear(100, 10)\n",
        "\n",
        "    def forward(self, x):\n",
        "        x = F.relu(self.conv1(x))\n",
        "        x = F.relu(self.conv2(x))\n",
        "        x = F.relu(self.conv3(x))\n",
        "        x = x.view(-1, 50 * 124 * 117)\n",
        "        x = F.relu(self.fc1(x))\n",
        "        x = self.fc2(x)\n",
        "        #x = x.squeeze(1) # Flatten to [batch_size]\n",
        "        return x\n",
        "    \n",
        "class DigitRecognitionNet3(nn.Module):\n",
        "    def __init__(self):\n",
        "        super(DigitRecognitionNet3, self).__init__()\n",
        "        self.name = 'DigitRecognitionNet3'\n",
        "        self.conv1 = nn.Conv2d(1, 5, 3)\n",
        "        self.conv2 = nn.Conv2d(5, 25, 3)\n",
        "        self.fc1 = nn.Linear(25 * 124 * 117, 100)\n",
        "        self.fc2 = nn.Linear(100, 10)\n",
        "\n",
        "    def forward(self, x):\n",
        "        x = F.relu(self.conv1(x))\n",
        "        x = F.relu(self.conv2(x))\n",
        "        x = x.view(-1, 25 * 124 * 117)\n",
        "        x = F.relu(self.fc1(x))\n",
        "        #x = x.squeeze(1) # Flatten to [batch_size]\n",
        "        return x\n",
        "    \n",
        "class DigitRecognitionNet4(nn.Module):\n",
        "    def __init__(self):\n",
        "        super(DigitRecognitionNet4, self).__init__()\n",
        "        self.name = 'DigitRecognitionNet4'\n",
        "        self.fc1 = nn.Linear(128 * 121, 100)\n",
        "        self.fc2 = nn.Linear(100, 10)\n",
        "\n",
        "    def forward(self, x):\n",
        "        x = x.view(-1, 128 * 121)\n",
        "        x = F.relu(self.fc1(x))\n",
        "        x = self.fc2(x)\n",
        "        #x = x.squeeze(1) # Flatten to [batch_size]\n",
        "        return x"
      ],
      "execution_count": 179,
      "outputs": []
    },
    {
      "cell_type": "code",
      "metadata": {
        "id": "qWPAIiiZb2KV"
      },
      "source": [
        "# After receiving necessary tensors\n",
        "from torch.utils.data import DataLoader\n",
        "\n",
        "def get_data_loader(data, batch_size, training_percentage=0.8):\n",
        "    # subtraction is necessary below because we are using integers and do not want any data to be unused because of rounding down the integers\n",
        "    train_len = int(len(data)*training_percentage)\n",
        "    val_len = len(data) - train_len\n",
        "    #test_len = len(data) - train_len - val_len\n",
        "    print(len(data), train_len, val_len)\n",
        "    train_set, val_set = torch.utils.data.random_split(data, [train_len, val_len])\n",
        "\n",
        "    train_loader = DataLoader(train_set, batch_size, shuffle=True)\n",
        "    if val_len > 0:\n",
        "        val_loader = DataLoader(val_set, batch_size, shuffle=True)\n",
        "    else:\n",
        "        val_loader = []\n",
        "    '''if test_len > 0:\n",
        "        test_loader = DataLoader(test_set, batch_size, shuffle=True)\n",
        "    else:\n",
        "        test_loader = []'''\n",
        "\n",
        "    return train_loader, val_loader#, test_loader\n",
        "\n",
        "batch_size = 64"
      ],
      "execution_count": 233,
      "outputs": []
    },
    {
      "cell_type": "code",
      "metadata": {
        "id": "7VYmIwC9b2KZ"
      },
      "source": [
        "def train_net(net, data, batch_size=64, learning_rate=1e-3, num_epochs=30, training_percentage=0.8, weight_decay=0, save_checkpoint=True):\n",
        "    ########################################################################\n",
        "    # Obtain the PyTorch data loader objects to load batches of the datasets\n",
        "    train_loader, val_loader = get_data_loader(\n",
        "            data, batch_size, training_percentage)\n",
        "    ########################################################################\n",
        "    # Define the Loss function and optimizer\n",
        "    # The loss function will be Binary Cross Entropy (BCE). In this case we\n",
        "    # will use the BCEWithLogitsLoss which takes unnormalized output from\n",
        "    # the neural network and scalar label.\n",
        "    # Optimizer will be SGD with Momentum.\n",
        "    criterion = nn.CrossEntropyLoss()\n",
        "    optimizer = optim.Adam(net.parameters(), lr=learning_rate, weight_decay=weight_decay)\n",
        "    ########################################################################\n",
        "    # Set up some numpy arrays to store the training/test loss/erruracy\n",
        "    train_err = np.zeros(num_epochs)\n",
        "    train_loss = np.zeros(num_epochs)\n",
        "    val_err = np.zeros(num_epochs)\n",
        "    val_loss = np.zeros(num_epochs)\n",
        "    ########################################################################\n",
        "    # Train the network\n",
        "    # Loop over the data iterator and sample a new batch of training data\n",
        "    # Get the output from the network, and optimize our loss function.\n",
        "    start_time = time.time()\n",
        "    for epoch in range(num_epochs):  # loop over the dataset multiple times\n",
        "        total_train_loss = 0.0\n",
        "        total_train_correct = 0.0\n",
        "        total_epoch = 0\n",
        "        for i, data in enumerate(train_loader, 0):\n",
        "            # Get the inputs\n",
        "            inputs, labels = data\n",
        "            net.train()\n",
        "            #############################################\n",
        "            #To Enable GPU Usage\n",
        "            if use_cuda and torch.cuda.is_available():\n",
        "                inputs = inputs.cuda()\n",
        "                labels = labels.cuda()\n",
        "            #############################################\n",
        "            # Zero the parameter gradients\n",
        "            optimizer.zero_grad()\n",
        "            # Forward pass, backward pass, and optimize\n",
        "            outputs = net(inputs)\n",
        "            #print(inputs)\n",
        "            #print(outputs)\n",
        "            #print(labels)\n",
        "            loss = criterion(outputs, labels)\n",
        "            \n",
        "            loss.backward()\n",
        "            optimizer.step()\n",
        "            # Calculate the statistics\n",
        "            pred = outputs.max(1, keepdim=True)[1]\n",
        "            total_train_correct += pred.eq(labels.view_as(pred)).sum().item()\n",
        "            total_epoch += inputs.shape[0]\n",
        "            total_train_loss += loss.item()\n",
        "\n",
        "        train_err[epoch] = float(total_epoch - total_train_correct) / total_epoch\n",
        "        train_loss[epoch] = float(total_train_loss) / (i+1)\n",
        "        val_err[epoch], val_loss[epoch] = evaluate(net, val_loader, criterion)\n",
        "        print((\"Epoch {}: Train err: {}, Train loss: {} |\"+\n",
        "               \"Validation err: {}, Validation loss: {}\").format(\n",
        "                   epoch + 1,\n",
        "                   train_err[epoch],\n",
        "                   train_loss[epoch],\n",
        "                   val_err[epoch],\n",
        "                   val_loss[epoch]))\n",
        "        # Save the current model (checkpoint) to a file\n",
        "        model_path = get_model_name(net.name, batch_size, learning_rate, epoch)\n",
        "        if save_checkpoint:\n",
        "          torch.save(net.state_dict(), model_path)\n",
        "    print('Finished Training')\n",
        "    end_time = time.time()\n",
        "    elapsed_time = end_time - start_time\n",
        "    print(\"Total time elapsed: {:.2f} seconds\".format(elapsed_time))\n",
        "    # Write the train/test loss/err into CSV file for plotting later\n",
        "    epochs = np.arange(1, num_epochs + 1)\n",
        "    np.savetxt(\"{}_train_err.csv\".format(model_path), train_err)\n",
        "    np.savetxt(\"{}_train_loss.csv\".format(model_path), train_loss)\n",
        "    np.savetxt(\"{}_val_err.csv\".format(model_path), val_err)\n",
        "    np.savetxt(\"{}_val_loss.csv\".format(model_path), val_loss)\n",
        "\n",
        "# Evaluating accuracy\n",
        "def evaluate(net, loader, criterion):\n",
        "    \"\"\" Evaluate the network on the validation set.\n",
        "\n",
        "      Args:\n",
        "          net: PyTorch neural network object\n",
        "          loader: PyTorch data loader for the validation set\n",
        "          criterion: The loss function\n",
        "      Returns:\n",
        "          err: A scalar for the avg classification error over the validation set\n",
        "          loss: A scalar for the average loss function over the validation set\n",
        "      \"\"\"\n",
        "    net.eval()\n",
        "    total_loss = 0.0\n",
        "    total_correct = 0\n",
        "    total_epoch = 0\n",
        "    for i, data in enumerate(loader, 0):\n",
        "        inputs, labels = data\n",
        "        #############################################\n",
        "        #To Enable GPU Usage\n",
        "        if use_cuda and torch.cuda.is_available():\n",
        "            inputs = inputs.cuda()\n",
        "            labels = labels.cuda()\n",
        "        #############################################\n",
        "        outputs = net(inputs)\n",
        "        loss = criterion(outputs, labels)\n",
        "        pred = outputs.max(1, keepdim=True)[1]\n",
        "        total_correct += pred.eq(labels.view_as(pred)).sum().item()\n",
        "        total_epoch += inputs.shape[0]\n",
        "        total_loss += loss.item()\n",
        "    if total_epoch == 0:\n",
        "        print(\"No data in loader\")\n",
        "        return 1,1\n",
        "    err = float(total_epoch-total_correct) / total_epoch\n",
        "    loss = float(total_loss) / (i + 1)\n",
        "    return err, loss\n",
        "\n",
        "def get_model_name(name, batch_size, learning_rate, epoch):\n",
        "    \"\"\" Generate a name for the model consisting of all the hyperparameter values\n",
        "\n",
        "    Args:\n",
        "        config: Configuration object containing the hyperparameters\n",
        "    Returns:\n",
        "        path: A string with the hyperparameter name and value concatenated\n",
        "    \"\"\"\n",
        "    path = \"model_{0}_bs{1}_lr{2}_epoch{3}\".format(name, batch_size, learning_rate, epoch)\n",
        "    return path\n",
        "\n",
        "    # Training Curve\n",
        "def plot_training_curve(path):\n",
        "    \"\"\" Plots the training curve for a model run, given the csv files\n",
        "    containing the train/validation error/loss.\n",
        "\n",
        "    Args:\n",
        "        path: The base path of the csv files produced during training\n",
        "    \"\"\"\n",
        "    import matplotlib.pyplot as plt\n",
        "    train_err = np.loadtxt(\"{}_train_err.csv\".format(path))\n",
        "    val_err = np.loadtxt(\"{}_val_err.csv\".format(path))\n",
        "    train_loss = np.loadtxt(\"{}_train_loss.csv\".format(path))\n",
        "    val_loss = np.loadtxt(\"{}_val_loss.csv\".format(path))\n",
        "    plt.title(\"Train vs Validation Error\")\n",
        "    n = len(train_err) # number of epochs\n",
        "    plt.plot(range(1,n+1), train_err, label=\"Train\")\n",
        "    plt.plot(range(1,n+1), val_err, label=\"Validation\")\n",
        "    plt.xlabel(\"Epoch\")\n",
        "    plt.ylabel(\"Error\")\n",
        "    plt.legend(loc='best')\n",
        "    plt.show()\n",
        "    plt.title(\"Train vs Validation Loss\")\n",
        "    plt.plot(range(1,n+1), train_loss, label=\"Train\")\n",
        "    plt.plot(range(1,n+1), val_loss, label=\"Validation\")\n",
        "    plt.xlabel(\"Epoch\")\n",
        "    plt.ylabel(\"Loss\")\n",
        "    plt.legend(loc='best')\n",
        "    plt.show()"
      ],
      "execution_count": 229,
      "outputs": []
    },
    {
      "cell_type": "code",
      "metadata": {
        "colab": {
          "base_uri": "https://localhost:8080/"
        },
        "id": "W2tpyVeqKBwY",
        "outputId": "2f68a5c6-b933-45bf-94bd-4f89358cc207"
      },
      "source": [
        "def scale_minmax(X, min=0.0, max=1.0):\n",
        "    X_std = (X - X.min()) / (X.max() - X.min())\n",
        "    X_scaled = X_std * (max - min) + min\n",
        "    print(X.min())\n",
        "    print(X.max())\n",
        "    return X_scaled\n",
        "\n",
        "from torch.utils.data import TensorDataset\n",
        "\n",
        "use_mel = True\n",
        "X_final = []\n",
        "if(use_mel):\n",
        "    # Get melspectrograms of each sample\n",
        "    for i in range(len(X_uniform)):\n",
        "        noise = np.random.normal(0, 0.02, 4000)\n",
        "        normalized = librosa.util.normalize(X_uniform[i])\n",
        "        if (i > 1500): normalized += noise #1500 so only half have noise\n",
        "        S = librosa.feature.melspectrogram(y=normalized, n_fft=1024, hop_length=32, sr=8000)\n",
        "        mellog = np.log(S + 1e-9)\n",
        "        melnormalized = librosa.util.normalize(mellog)\n",
        "        #S = np.kron(S, np.ones((1, 11)))\n",
        "        X_final.append(melnormalized)\n",
        "else:\n",
        "    X_final = X_uniform\n",
        "    \n",
        "'''X_np = np.array(X_final)\n",
        "print(X_np.max())\n",
        "print(X_np.mean())\n",
        "X_np = np.clip(X_np, 0, X_np.mean()*4)    # 1600 mels is 2000hz, which is the highest frequency we expect from a person\n",
        "X_final = scale_minmax(X_np, 0, 1)'''\n",
        "X_tensor = torch.Tensor(X_final)\n",
        "y_tensor = torch.Tensor(y).long()\n",
        "\n",
        "X_tensor = X_tensor.unsqueeze(1)\n",
        "print(X_tensor.shape)\n",
        "print(y_tensor.shape)\n",
        "print(X_tensor[0])\n",
        "print(y_tensor[0])\n",
        "\n",
        "train_dataset = TensorDataset(X_tensor[90:], y_tensor[90:])\n",
        "unseen_data = TensorDataset(X_tensor[:90], y_tensor[:90])\n",
        "print(len(train_dataset), len(unseen_data))"
      ],
      "execution_count": 435,
      "outputs": [
        {
          "output_type": "stream",
          "text": [
            "torch.Size([3090, 1, 128, 126])\n",
            "torch.Size([3090])\n",
            "tensor([[[-0.3214, -0.3417, -0.3768,  ..., -1.0000, -1.0000, -1.0000],\n",
            "         [-0.0369, -0.0415, -0.0529,  ..., -1.0000, -1.0000, -1.0000],\n",
            "         [ 0.1012,  0.1023,  0.0960,  ..., -1.0000, -1.0000, -1.0000],\n",
            "         ...,\n",
            "         [-0.1819, -0.1952, -0.2211,  ..., -1.0000, -1.0000, -1.0000],\n",
            "         [-0.1610, -0.1720, -0.1924,  ..., -1.0000, -1.0000, -1.0000],\n",
            "         [-0.2521, -0.2674, -0.2929,  ..., -1.0000, -1.0000, -1.0000]]])\n",
            "tensor(6)\n",
            "3000 90\n"
          ],
          "name": "stdout"
        }
      ]
    },
    {
      "cell_type": "code",
      "metadata": {
        "id": "S2JORmiZKBwa"
      },
      "source": [
        "use_cuda = True"
      ],
      "execution_count": 181,
      "outputs": []
    },
    {
      "cell_type": "code",
      "metadata": {
        "colab": {
          "base_uri": "https://localhost:8080/",
          "height": 1000
        },
        "id": "sf2Qm1MdKBwa",
        "outputId": "2abaa472-53dc-4c0d-9a4a-1b10a954b130"
      },
      "source": [
        "net1 = DigitRecognitionNet1()\n",
        "if use_cuda:\n",
        "  net1 = net1.cuda()\n",
        "train_net(net1, train_dataset, batch_size=128, learning_rate=0.01, num_epochs=50, training_percentage=0.8, weight_decay=0, save_checkpoint=False)\n",
        "plot_training_curve(get_model_name(\"DigitRecognitionNet1\", 128, 0.02, 49))"
      ],
      "execution_count": 443,
      "outputs": [
        {
          "output_type": "stream",
          "text": [
            "3000 2400 600\n",
            "Epoch 1: Train err: 0.6066666666666667, Train loss: 1.6524743375025297 |Validation err: 0.265, Validation loss: 0.7105491399765015\n",
            "Epoch 2: Train err: 0.23458333333333334, Train loss: 0.6415274237331591 |Validation err: 0.135, Validation loss: 0.42729883193969725\n",
            "Epoch 3: Train err: 0.135, Train loss: 0.38144768539227936 |Validation err: 0.095, Validation loss: 0.35205085277557374\n",
            "Epoch 4: Train err: 0.10166666666666667, Train loss: 0.28866079763362285 |Validation err: 0.095, Validation loss: 0.29081855714321136\n",
            "Epoch 5: Train err: 0.08125, Train loss: 0.22904373470105624 |Validation err: 0.06166666666666667, Validation loss: 0.24138111621141434\n",
            "Epoch 6: Train err: 0.0625, Train loss: 0.1745530704134389 |Validation err: 0.03166666666666667, Validation loss: 0.17576744556427001\n",
            "Epoch 7: Train err: 0.04875, Train loss: 0.1358517361314673 |Validation err: 0.06166666666666667, Validation loss: 0.23482933938503264\n",
            "Epoch 8: Train err: 0.03958333333333333, Train loss: 0.11585309748586856 |Validation err: 0.05, Validation loss: 0.1852842539548874\n",
            "Epoch 9: Train err: 0.027916666666666666, Train loss: 0.08255032547994663 |Validation err: 0.045, Validation loss: 0.2622034758329391\n",
            "Epoch 10: Train err: 0.029583333333333333, Train loss: 0.09521346264763882 |Validation err: 0.045, Validation loss: 0.21054010689258576\n",
            "Epoch 11: Train err: 0.02125, Train loss: 0.06165539081159391 |Validation err: 0.04666666666666667, Validation loss: 0.24424066469073297\n",
            "Epoch 12: Train err: 0.024583333333333332, Train loss: 0.07019523080242307 |Validation err: 0.021666666666666667, Validation loss: 0.14126656241714955\n",
            "Epoch 13: Train err: 0.0275, Train loss: 0.08209097150125001 |Validation err: 0.045, Validation loss: 0.20454692244529724\n",
            "Epoch 14: Train err: 0.020833333333333332, Train loss: 0.07211200255704553 |Validation err: 0.028333333333333332, Validation loss: 0.15092080682516099\n",
            "Epoch 15: Train err: 0.0225, Train loss: 0.06541482153299608 |Validation err: 0.028333333333333332, Validation loss: 0.16097785755991936\n",
            "Epoch 16: Train err: 0.0125, Train loss: 0.0489186561715446 |Validation err: 0.03666666666666667, Validation loss: 0.16430166363716125\n",
            "Epoch 17: Train err: 0.016666666666666666, Train loss: 0.04534002582199479 |Validation err: 0.03333333333333333, Validation loss: 0.18721169084310532\n",
            "Epoch 18: Train err: 0.015416666666666667, Train loss: 0.045955714156949205 |Validation err: 0.023333333333333334, Validation loss: 0.15413665734231471\n",
            "Epoch 19: Train err: 0.017916666666666668, Train loss: 0.05319032200465077 |Validation err: 0.02666666666666667, Validation loss: 0.14442754872143268\n",
            "Epoch 20: Train err: 0.011666666666666667, Train loss: 0.030406358308698003 |Validation err: 0.02, Validation loss: 0.11488797664642333\n",
            "Epoch 21: Train err: 0.014583333333333334, Train loss: 0.042847500476790104 |Validation err: 0.04, Validation loss: 0.1767661914229393\n",
            "Epoch 22: Train err: 0.017083333333333332, Train loss: 0.06311826121160075 |Validation err: 0.021666666666666667, Validation loss: 0.09496959950774908\n",
            "Epoch 23: Train err: 0.0175, Train loss: 0.047698747072564926 |Validation err: 0.025, Validation loss: 0.12428215816617012\n",
            "Epoch 24: Train err: 0.015416666666666667, Train loss: 0.04536338679884609 |Validation err: 0.03166666666666667, Validation loss: 0.20993305444717408\n",
            "Epoch 25: Train err: 0.015833333333333335, Train loss: 0.04829238972773677 |Validation err: 0.03, Validation loss: 0.19348875544965266\n",
            "Epoch 26: Train err: 0.014583333333333334, Train loss: 0.040607555328231106 |Validation err: 0.03166666666666667, Validation loss: 0.1411481499671936\n",
            "Epoch 27: Train err: 0.01375, Train loss: 0.03966642296137778 |Validation err: 0.025, Validation loss: 0.21667134165763854\n",
            "Epoch 28: Train err: 0.011666666666666667, Train loss: 0.030958317676681633 |Validation err: 0.025, Validation loss: 0.24274639636278153\n",
            "Epoch 29: Train err: 0.010833333333333334, Train loss: 0.034365562722086906 |Validation err: 0.03166666666666667, Validation loss: 0.2745989203453064\n",
            "Epoch 30: Train err: 0.02, Train loss: 0.055199831037929185 |Validation err: 0.035, Validation loss: 0.21601982563734054\n",
            "Epoch 31: Train err: 0.025, Train loss: 0.06257259139889165 |Validation err: 0.03166666666666667, Validation loss: 0.23927431628108026\n",
            "Epoch 32: Train err: 0.017916666666666668, Train loss: 0.060395610285922885 |Validation err: 0.023333333333333334, Validation loss: 0.13628859538584948\n",
            "Epoch 33: Train err: 0.009166666666666667, Train loss: 0.030983241691597198 |Validation err: 0.035, Validation loss: 0.2494402378797531\n",
            "Epoch 34: Train err: 0.009583333333333333, Train loss: 0.02410753393594764 |Validation err: 0.023333333333333334, Validation loss: 0.2501251235604286\n",
            "Epoch 35: Train err: 0.006666666666666667, Train loss: 0.018104553961740367 |Validation err: 0.023333333333333334, Validation loss: 0.21749805882573128\n",
            "Epoch 36: Train err: 0.009583333333333333, Train loss: 0.02703352432428418 |Validation err: 0.028333333333333332, Validation loss: 0.23970049917697905\n",
            "Epoch 37: Train err: 0.009166666666666667, Train loss: 0.027290402592993097 |Validation err: 0.02666666666666667, Validation loss: 0.29639257192611695\n",
            "Epoch 38: Train err: 0.0125, Train loss: 0.0332803509541248 |Validation err: 0.015, Validation loss: 0.19736344516277313\n",
            "Epoch 39: Train err: 0.00875, Train loss: 0.02378365316575295 |Validation err: 0.028333333333333332, Validation loss: 0.2817352330312133\n",
            "Epoch 40: Train err: 0.010833333333333334, Train loss: 0.033766767858699163 |Validation err: 0.025, Validation loss: 0.2098031911998987\n",
            "Epoch 41: Train err: 0.005833333333333334, Train loss: 0.021763796970174696 |Validation err: 0.013333333333333334, Validation loss: 0.2506784752942622\n",
            "Epoch 42: Train err: 0.01625, Train loss: 0.05098825586365389 |Validation err: 0.03166666666666667, Validation loss: 0.1577926654368639\n",
            "Epoch 43: Train err: 0.019583333333333335, Train loss: 0.05546105160426937 |Validation err: 0.041666666666666664, Validation loss: 0.2162913888692856\n",
            "Epoch 44: Train err: 0.014166666666666666, Train loss: 0.0385129785679869 |Validation err: 0.028333333333333332, Validation loss: 0.24148552492260933\n",
            "Epoch 45: Train err: 0.01, Train loss: 0.02586950666859354 |Validation err: 0.03, Validation loss: 0.168355904892087\n",
            "Epoch 46: Train err: 0.008333333333333333, Train loss: 0.0311462054225175 |Validation err: 0.035, Validation loss: 0.18088593520224094\n",
            "Epoch 47: Train err: 0.00875, Train loss: 0.027344423811882734 |Validation err: 0.02, Validation loss: 0.18586458042263984\n",
            "Epoch 48: Train err: 0.015416666666666667, Train loss: 0.056178391310631445 |Validation err: 0.013333333333333334, Validation loss: 0.12043665582314134\n",
            "Epoch 49: Train err: 0.005, Train loss: 0.013822147426636596 |Validation err: 0.02666666666666667, Validation loss: 0.2594542302191257\n",
            "Epoch 50: Train err: 0.009166666666666667, Train loss: 0.035119901441870945 |Validation err: 0.02, Validation loss: 0.21345473267138004\n",
            "Finished Training\n",
            "Total time elapsed: 20.80 seconds\n"
          ],
          "name": "stdout"
        },
        {
          "output_type": "display_data",
          "data": {
            "image/png": "[encoded data removed]",
            "text/plain": [
              "<Figure size 432x288 with 1 Axes>"
            ]
          },
          "metadata": {
            "tags": [],
            "needs_background": "light"
          }
        },
        {
          "output_type": "display_data",
          "data": {
            "image/png": "[encoded data removed]",
            "text/plain": [
              "<Figure size 432x288 with 1 Axes>"
            ]
          },
          "metadata": {
            "tags": [],
            "needs_background": "light"
          }
        }
      ]
    },
    {
      "cell_type": "code",
      "metadata": {
        "colab": {
          "base_uri": "https://localhost:8080/"
        },
        "id": "KbH_HjcoLxns",
        "outputId": "a6bc8ca8-0329-4fc7-9df4-9057196500ab"
      },
      "source": [
        "unseen_loader = DataLoader(unseen_data, 128)\n",
        "err, loss = evaluate(net1, unseen_loader, nn.CrossEntropyLoss())\n",
        "print(err, loss)"
      ],
      "execution_count": 444,
      "outputs": [
        {
          "output_type": "stream",
          "text": [
            "0.16666666666666666 2.103165626525879\n"
          ],
          "name": "stdout"
        }
      ]
    },
    {
      "cell_type": "code",
      "metadata": {
        "id": "5XhDaPXvKBwa"
      },
      "source": [
        "net2 = DigitRecognitionNet2()\n",
        "if use_cuda:\n",
        "  net2 = net2.cuda()\n",
        "train_net(net2, dataset, batch_size=64, learning_rate=1e-3, num_epochs=600, training_percentage=0.8, weight_decay=0.001, save_checkpoint=False)\n",
        "plot_training_curve(get_model_name(\"DigitRecognitionNet2\", 64, 1e-3, 599))"
      ],
      "execution_count": null,
      "outputs": []
    },
    {
      "cell_type": "code",
      "metadata": {
        "id": "e6MPO1HQKBwb"
      },
      "source": [
        "net3 = DigitRecognitionNet3()\n",
        "if use_cuda:\n",
        "  net3 = net3.cuda()\n",
        "train_net(net3, dataset, batch_size=75, learning_rate=1e-3, num_epochs=600, training_percentage=0.7, weight_decay=0, save_checkpoint=False)\n",
        "plot_training_curve(get_model_name(\"DigitRecognitionNet3\", 64, 1e-3, 599))"
      ],
      "execution_count": null,
      "outputs": []
    },
    {
      "cell_type": "code",
      "metadata": {
        "id": "Ui6xYaqCb2Kd"
      },
      "source": [
        "net4 = DigitRecognitionNet4()\n",
        "if use_cuda:\n",
        "  net4 = net4.cuda()\n",
        "train_net(net4, dataset, batch_size=64, learning_rate=1e-4, num_epochs=200, training_percentage=0.7, weight_decay=0, save_checkpoint=False)\n",
        "plot_training_curve(get_model_name(\"DigitRecognitionNet4\", 64, 1e-4, 199))"
      ],
      "execution_count": null,
      "outputs": []
    },
    {
      "cell_type": "code",
      "metadata": {
        "id": "_9WQgTw6KBwc"
      },
      "source": [
        ""
      ],
      "execution_count": null,
      "outputs": []
    }
  ]
}